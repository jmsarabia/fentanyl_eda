{
 "cells": [
  {
   "cell_type": "code",
   "execution_count": 18,
   "id": "69007005-8c52-48bf-8f74-62f3d466be75",
   "metadata": {},
   "outputs": [],
   "source": [
    "import pandas as pd\n",
    "import seaborn as sns"
   ]
  },
  {
   "cell_type": "code",
   "execution_count": 19,
   "id": "1346c19c-e953-4c9b-9bf5-dbac3a8427b5",
   "metadata": {},
   "outputs": [],
   "source": [
    "base = pd.read_csv(\"Multiple Cause of Death, 1999-2020 Age Gender Year Race COD Socioec.txt\", sep='\\t', skipfooter=0)"
   ]
  },
  {
   "cell_type": "code",
   "execution_count": 41,
   "id": "1a3c79fc-c04e-465c-bb73-e1ed23a73ab8",
   "metadata": {},
   "outputs": [
    {
     "data": {
      "text/html": [
       "<div>\n",
       "<style scoped>\n",
       "    .dataframe tbody tr th:only-of-type {\n",
       "        vertical-align: middle;\n",
       "    }\n",
       "\n",
       "    .dataframe tbody tr th {\n",
       "        vertical-align: top;\n",
       "    }\n",
       "\n",
       "    .dataframe thead th {\n",
       "        text-align: right;\n",
       "    }\n",
       "</style>\n",
       "<table border=\"1\" class=\"dataframe\">\n",
       "  <thead>\n",
       "    <tr style=\"text-align: right;\">\n",
       "      <th></th>\n",
       "      <th>Notes</th>\n",
       "      <th>Year</th>\n",
       "      <th>Year Code</th>\n",
       "      <th>Deaths</th>\n",
       "      <th>Crude Rate</th>\n",
       "      <th>socioec quintile</th>\n",
       "    </tr>\n",
       "  </thead>\n",
       "  <tbody>\n",
       "    <tr>\n",
       "      <th>count</th>\n",
       "      <td>0.0</td>\n",
       "      <td>121440.000000</td>\n",
       "      <td>121440.000000</td>\n",
       "      <td>100174.000000</td>\n",
       "      <td>7915.000000</td>\n",
       "      <td>121440.000000</td>\n",
       "    </tr>\n",
       "    <tr>\n",
       "      <th>mean</th>\n",
       "      <td>NaN</td>\n",
       "      <td>2009.500000</td>\n",
       "      <td>2009.500000</td>\n",
       "      <td>6.601314</td>\n",
       "      <td>6.352340</td>\n",
       "      <td>3.000000</td>\n",
       "    </tr>\n",
       "    <tr>\n",
       "      <th>std</th>\n",
       "      <td>NaN</td>\n",
       "      <td>6.344315</td>\n",
       "      <td>6.344315</td>\n",
       "      <td>33.370714</td>\n",
       "      <td>8.335494</td>\n",
       "      <td>1.414219</td>\n",
       "    </tr>\n",
       "    <tr>\n",
       "      <th>min</th>\n",
       "      <td>NaN</td>\n",
       "      <td>1999.000000</td>\n",
       "      <td>1999.000000</td>\n",
       "      <td>0.000000</td>\n",
       "      <td>0.974825</td>\n",
       "      <td>1.000000</td>\n",
       "    </tr>\n",
       "    <tr>\n",
       "      <th>25%</th>\n",
       "      <td>NaN</td>\n",
       "      <td>2004.000000</td>\n",
       "      <td>2004.000000</td>\n",
       "      <td>0.000000</td>\n",
       "      <td>2.027962</td>\n",
       "      <td>2.000000</td>\n",
       "    </tr>\n",
       "    <tr>\n",
       "      <th>50%</th>\n",
       "      <td>NaN</td>\n",
       "      <td>2009.500000</td>\n",
       "      <td>2009.500000</td>\n",
       "      <td>0.000000</td>\n",
       "      <td>3.395178</td>\n",
       "      <td>3.000000</td>\n",
       "    </tr>\n",
       "    <tr>\n",
       "      <th>75%</th>\n",
       "      <td>NaN</td>\n",
       "      <td>2015.000000</td>\n",
       "      <td>2015.000000</td>\n",
       "      <td>0.000000</td>\n",
       "      <td>7.517281</td>\n",
       "      <td>4.000000</td>\n",
       "    </tr>\n",
       "    <tr>\n",
       "      <th>max</th>\n",
       "      <td>NaN</td>\n",
       "      <td>2020.000000</td>\n",
       "      <td>2020.000000</td>\n",
       "      <td>1237.000000</td>\n",
       "      <td>94.996109</td>\n",
       "      <td>5.000000</td>\n",
       "    </tr>\n",
       "  </tbody>\n",
       "</table>\n",
       "</div>"
      ],
      "text/plain": [
       "       Notes           Year      Year Code         Deaths   Crude Rate  \\\n",
       "count    0.0  121440.000000  121440.000000  100174.000000  7915.000000   \n",
       "mean     NaN    2009.500000    2009.500000       6.601314     6.352340   \n",
       "std      NaN       6.344315       6.344315      33.370714     8.335494   \n",
       "min      NaN    1999.000000    1999.000000       0.000000     0.974825   \n",
       "25%      NaN    2004.000000    2004.000000       0.000000     2.027962   \n",
       "50%      NaN    2009.500000    2009.500000       0.000000     3.395178   \n",
       "75%      NaN    2015.000000    2015.000000       0.000000     7.517281   \n",
       "max      NaN    2020.000000    2020.000000    1237.000000    94.996109   \n",
       "\n",
       "       socioec quintile  \n",
       "count     121440.000000  \n",
       "mean           3.000000  \n",
       "std            1.414219  \n",
       "min            1.000000  \n",
       "25%            2.000000  \n",
       "50%            3.000000  \n",
       "75%            4.000000  \n",
       "max            5.000000  "
      ]
     },
     "execution_count": 41,
     "metadata": {},
     "output_type": "execute_result"
    }
   ],
   "source": [
    "base.describe()"
   ]
  },
  {
   "cell_type": "code",
   "execution_count": 20,
   "id": "15c24f89-16a4-48ec-83fb-6a51a5cc4992",
   "metadata": {},
   "outputs": [
    {
     "data": {
      "text/html": [
       "<div>\n",
       "<style scoped>\n",
       "    .dataframe tbody tr th:only-of-type {\n",
       "        vertical-align: middle;\n",
       "    }\n",
       "\n",
       "    .dataframe tbody tr th {\n",
       "        vertical-align: top;\n",
       "    }\n",
       "\n",
       "    .dataframe thead th {\n",
       "        text-align: right;\n",
       "    }\n",
       "</style>\n",
       "<table border=\"1\" class=\"dataframe\">\n",
       "  <thead>\n",
       "    <tr style=\"text-align: right;\">\n",
       "      <th></th>\n",
       "      <th>Notes</th>\n",
       "      <th>Multiple Cause of death</th>\n",
       "      <th>Multiple Cause of death Code</th>\n",
       "      <th>Year</th>\n",
       "      <th>Year Code</th>\n",
       "      <th>Gender</th>\n",
       "      <th>Gender Code</th>\n",
       "      <th>Race</th>\n",
       "      <th>Race Code</th>\n",
       "      <th>Five-Year Age Groups</th>\n",
       "      <th>Five-Year Age Groups Code</th>\n",
       "      <th>Deaths</th>\n",
       "      <th>Population</th>\n",
       "      <th>Crude Rate</th>\n",
       "      <th>socioec quintile</th>\n",
       "    </tr>\n",
       "  </thead>\n",
       "  <tbody>\n",
       "    <tr>\n",
       "      <th>0</th>\n",
       "      <td>NaN</td>\n",
       "      <td>Opium</td>\n",
       "      <td>T40.0</td>\n",
       "      <td>1999</td>\n",
       "      <td>1999</td>\n",
       "      <td>Female</td>\n",
       "      <td>F</td>\n",
       "      <td>American Indian or Alaska Native</td>\n",
       "      <td>1002-5</td>\n",
       "      <td>&lt; 1 year</td>\n",
       "      <td>1</td>\n",
       "      <td>0</td>\n",
       "      <td>9033</td>\n",
       "      <td>Unreliable</td>\n",
       "      <td>1</td>\n",
       "    </tr>\n",
       "    <tr>\n",
       "      <th>1</th>\n",
       "      <td>NaN</td>\n",
       "      <td>Opium</td>\n",
       "      <td>T40.0</td>\n",
       "      <td>1999</td>\n",
       "      <td>1999</td>\n",
       "      <td>Female</td>\n",
       "      <td>F</td>\n",
       "      <td>American Indian or Alaska Native</td>\n",
       "      <td>1002-5</td>\n",
       "      <td>1-4 years</td>\n",
       "      <td>4-Jan</td>\n",
       "      <td>0</td>\n",
       "      <td>38452</td>\n",
       "      <td>Unreliable</td>\n",
       "      <td>1</td>\n",
       "    </tr>\n",
       "    <tr>\n",
       "      <th>2</th>\n",
       "      <td>NaN</td>\n",
       "      <td>Opium</td>\n",
       "      <td>T40.0</td>\n",
       "      <td>1999</td>\n",
       "      <td>1999</td>\n",
       "      <td>Female</td>\n",
       "      <td>F</td>\n",
       "      <td>American Indian or Alaska Native</td>\n",
       "      <td>1002-5</td>\n",
       "      <td>5-9 years</td>\n",
       "      <td>9-May</td>\n",
       "      <td>0</td>\n",
       "      <td>56191</td>\n",
       "      <td>Unreliable</td>\n",
       "      <td>1</td>\n",
       "    </tr>\n",
       "  </tbody>\n",
       "</table>\n",
       "</div>"
      ],
      "text/plain": [
       "   Notes Multiple Cause of death Multiple Cause of death Code  Year  \\\n",
       "0    NaN                   Opium                        T40.0  1999   \n",
       "1    NaN                   Opium                        T40.0  1999   \n",
       "2    NaN                   Opium                        T40.0  1999   \n",
       "\n",
       "   Year Code  Gender Gender Code                              Race Race Code  \\\n",
       "0       1999  Female           F  American Indian or Alaska Native    1002-5   \n",
       "1       1999  Female           F  American Indian or Alaska Native    1002-5   \n",
       "2       1999  Female           F  American Indian or Alaska Native    1002-5   \n",
       "\n",
       "  Five-Year Age Groups Five-Year Age Groups Code Deaths Population  \\\n",
       "0             < 1 year                         1      0       9033   \n",
       "1            1-4 years                     4-Jan      0      38452   \n",
       "2            5-9 years                     9-May      0      56191   \n",
       "\n",
       "   Crude Rate  socioec quintile  \n",
       "0  Unreliable                 1  \n",
       "1  Unreliable                 1  \n",
       "2  Unreliable                 1  "
      ]
     },
     "execution_count": 20,
     "metadata": {},
     "output_type": "execute_result"
    }
   ],
   "source": [
    "base.head(3)"
   ]
  },
  {
   "cell_type": "markdown",
   "id": "780c2ad6-5102-4a3c-a4ee-1b10968dd90a",
   "metadata": {},
   "source": [
    "## Dtypes"
   ]
  },
  {
   "cell_type": "code",
   "execution_count": 42,
   "id": "d5b0662f-280c-4f49-bad5-d3fdd3aeedc7",
   "metadata": {},
   "outputs": [
    {
     "data": {
      "text/plain": [
       "Notes                           float64\n",
       "Multiple Cause of death          object\n",
       "Multiple Cause of death Code     object\n",
       "Year                              int64\n",
       "Year Code                         int64\n",
       "Gender                           object\n",
       "Gender Code                      object\n",
       "Race                             object\n",
       "Race Code                        object\n",
       "Five-Year Age Groups             object\n",
       "Five-Year Age Groups Code        object\n",
       "Deaths                          float64\n",
       "Population                       object\n",
       "Crude Rate                      float64\n",
       "socioec quintile                  int64\n",
       "dtype: object"
      ]
     },
     "execution_count": 42,
     "metadata": {},
     "output_type": "execute_result"
    }
   ],
   "source": [
    "base.dtypes"
   ]
  },
  {
   "cell_type": "code",
   "execution_count": 43,
   "id": "f554a290-4eba-4e4d-a376-2d34beb6ba1d",
   "metadata": {},
   "outputs": [
    {
     "data": {
      "text/plain": [
       "<Axes: xlabel='socioec quintile', ylabel='count'>"
      ]
     },
     "execution_count": 43,
     "metadata": {},
     "output_type": "execute_result"
    },
    {
     "data": {
      "image/png": "[encoded data removed]",
      "text/plain": [
       "<Figure size 640x480 with 1 Axes>"
      ]
     },
     "metadata": {},
     "output_type": "display_data"
    }
   ],
   "source": [
    "sns.countplot(data=base, x=base[\"socioec quintile\"])"
   ]
  },
  {
   "cell_type": "code",
   "execution_count": 31,
   "id": "22fd194e-9460-418a-b378-f77f1551832a",
   "metadata": {},
   "outputs": [],
   "source": [
    "base[\"Crude Rate\"] = pd.to_numeric(base[\"Crude Rate\"], errors='coerce')\n",
    "base[\"Deaths\"] = pd.to_numeric(base[\"Deaths\"], errors='coerce')"
   ]
  },
  {
   "cell_type": "code",
   "execution_count": 44,
   "id": "193abf0c-420f-4d39-9ef3-16a6ce854ffc",
   "metadata": {},
   "outputs": [
    {
     "data": {
      "image/png": "[encoded data removed]",
      "text/plain": [
       "<Figure size 640x480 with 1 Axes>"
      ]
     },
     "metadata": {},
     "output_type": "display_data"
    }
   ],
   "source": [
    "crude_rate_deaths_sum = base.groupby([\"socioec quintile\"])[\"Crude Rate\"].sum().reset_index()\n",
    "ax = sns.barplot(data= crude_rate_deaths_sum, \n",
    "            x=\"socioec quintile\", y=\"Crude Rate\").set(title=\"Crude Rate Deaths by Socieoeconomic Quintile\")\n"
   ]
  },
  {
   "cell_type": "code",
   "execution_count": 45,
   "id": "026d937e-1320-49a3-8bc8-a1c016dec68f",
   "metadata": {},
   "outputs": [
    {
     "data": {
      "text/plain": [
       "<Axes: xlabel='socioec quintile', ylabel='Deaths'>"
      ]
     },
     "execution_count": 45,
     "metadata": {},
     "output_type": "execute_result"
    },
    {
     "data": {
      "image/png": "[encoded data removed]",
      "text/plain": [
       "<Figure size 640x480 with 1 Axes>"
      ]
     },
     "metadata": {},
     "output_type": "display_data"
    }
   ],
   "source": [
    "sns.barplot(data=base.groupby([\"socioec quintile\"])[\"Deaths\"].sum().reset_index(), \n",
    "            x=\"socioec quintile\", y=\"Deaths\")"
   ]
  },
  {
   "cell_type": "markdown",
   "id": "d6b4f168-f908-4fb5-9a0f-877bd3872432",
   "metadata": {},
   "source": [
    "# Duplicates"
   ]
  },
  {
   "cell_type": "code",
   "execution_count": 49,
   "id": "e32f04e6-622e-48ef-9fdc-7b559fc40e7b",
   "metadata": {
    "scrolled": true
   },
   "outputs": [
    {
     "name": "stdout",
     "output_type": "stream",
     "text": [
      "121440\n",
      "121440\n"
     ]
    },
    {
     "data": {
      "text/html": [
       "<div>\n",
       "<style scoped>\n",
       "    .dataframe tbody tr th:only-of-type {\n",
       "        vertical-align: middle;\n",
       "    }\n",
       "\n",
       "    .dataframe tbody tr th {\n",
       "        vertical-align: top;\n",
       "    }\n",
       "\n",
       "    .dataframe thead th {\n",
       "        text-align: right;\n",
       "    }\n",
       "</style>\n",
       "<table border=\"1\" class=\"dataframe\">\n",
       "  <thead>\n",
       "    <tr style=\"text-align: right;\">\n",
       "      <th></th>\n",
       "      <th>Notes</th>\n",
       "      <th>Multiple Cause of death</th>\n",
       "      <th>Multiple Cause of death Code</th>\n",
       "      <th>Year</th>\n",
       "      <th>Year Code</th>\n",
       "      <th>Gender</th>\n",
       "      <th>Gender Code</th>\n",
       "      <th>Race</th>\n",
       "      <th>Race Code</th>\n",
       "      <th>Five-Year Age Groups</th>\n",
       "      <th>Five-Year Age Groups Code</th>\n",
       "      <th>Deaths</th>\n",
       "      <th>Population</th>\n",
       "      <th>Crude Rate</th>\n",
       "      <th>socioec quintile</th>\n",
       "    </tr>\n",
       "  </thead>\n",
       "  <tbody>\n",
       "    <tr>\n",
       "      <th>0</th>\n",
       "      <td>NaN</td>\n",
       "      <td>Opium</td>\n",
       "      <td>T40.0</td>\n",
       "      <td>1999</td>\n",
       "      <td>1999</td>\n",
       "      <td>Female</td>\n",
       "      <td>F</td>\n",
       "      <td>American Indian or Alaska Native</td>\n",
       "      <td>1002-5</td>\n",
       "      <td>&lt; 1 year</td>\n",
       "      <td>1</td>\n",
       "      <td>0.0</td>\n",
       "      <td>9033</td>\n",
       "      <td>NaN</td>\n",
       "      <td>1</td>\n",
       "    </tr>\n",
       "    <tr>\n",
       "      <th>1</th>\n",
       "      <td>NaN</td>\n",
       "      <td>Opium</td>\n",
       "      <td>T40.0</td>\n",
       "      <td>1999</td>\n",
       "      <td>1999</td>\n",
       "      <td>Female</td>\n",
       "      <td>F</td>\n",
       "      <td>American Indian or Alaska Native</td>\n",
       "      <td>1002-5</td>\n",
       "      <td>1-4 years</td>\n",
       "      <td>4-Jan</td>\n",
       "      <td>0.0</td>\n",
       "      <td>38452</td>\n",
       "      <td>NaN</td>\n",
       "      <td>1</td>\n",
       "    </tr>\n",
       "    <tr>\n",
       "      <th>2</th>\n",
       "      <td>NaN</td>\n",
       "      <td>Opium</td>\n",
       "      <td>T40.0</td>\n",
       "      <td>1999</td>\n",
       "      <td>1999</td>\n",
       "      <td>Female</td>\n",
       "      <td>F</td>\n",
       "      <td>American Indian or Alaska Native</td>\n",
       "      <td>1002-5</td>\n",
       "      <td>5-9 years</td>\n",
       "      <td>9-May</td>\n",
       "      <td>0.0</td>\n",
       "      <td>56191</td>\n",
       "      <td>NaN</td>\n",
       "      <td>1</td>\n",
       "    </tr>\n",
       "    <tr>\n",
       "      <th>3</th>\n",
       "      <td>NaN</td>\n",
       "      <td>Opium</td>\n",
       "      <td>T40.0</td>\n",
       "      <td>1999</td>\n",
       "      <td>1999</td>\n",
       "      <td>Female</td>\n",
       "      <td>F</td>\n",
       "      <td>American Indian or Alaska Native</td>\n",
       "      <td>1002-5</td>\n",
       "      <td>10-14 years</td>\n",
       "      <td>14-Oct</td>\n",
       "      <td>0.0</td>\n",
       "      <td>56255</td>\n",
       "      <td>NaN</td>\n",
       "      <td>1</td>\n",
       "    </tr>\n",
       "    <tr>\n",
       "      <th>4</th>\n",
       "      <td>NaN</td>\n",
       "      <td>Opium</td>\n",
       "      <td>T40.0</td>\n",
       "      <td>1999</td>\n",
       "      <td>1999</td>\n",
       "      <td>Female</td>\n",
       "      <td>F</td>\n",
       "      <td>American Indian or Alaska Native</td>\n",
       "      <td>1002-5</td>\n",
       "      <td>15-19 years</td>\n",
       "      <td>15-19</td>\n",
       "      <td>0.0</td>\n",
       "      <td>51137</td>\n",
       "      <td>NaN</td>\n",
       "      <td>1</td>\n",
       "    </tr>\n",
       "    <tr>\n",
       "      <th>...</th>\n",
       "      <td>...</td>\n",
       "      <td>...</td>\n",
       "      <td>...</td>\n",
       "      <td>...</td>\n",
       "      <td>...</td>\n",
       "      <td>...</td>\n",
       "      <td>...</td>\n",
       "      <td>...</td>\n",
       "      <td>...</td>\n",
       "      <td>...</td>\n",
       "      <td>...</td>\n",
       "      <td>...</td>\n",
       "      <td>...</td>\n",
       "      <td>...</td>\n",
       "      <td>...</td>\n",
       "    </tr>\n",
       "    <tr>\n",
       "      <th>121435</th>\n",
       "      <td>NaN</td>\n",
       "      <td>Other and unspecified narcotics</td>\n",
       "      <td>T40.6</td>\n",
       "      <td>2020</td>\n",
       "      <td>2020</td>\n",
       "      <td>Male</td>\n",
       "      <td>M</td>\n",
       "      <td>White</td>\n",
       "      <td>2106-3</td>\n",
       "      <td>85-89 years</td>\n",
       "      <td>85-89</td>\n",
       "      <td>0.0</td>\n",
       "      <td>Not Applicable</td>\n",
       "      <td>NaN</td>\n",
       "      <td>5</td>\n",
       "    </tr>\n",
       "    <tr>\n",
       "      <th>121436</th>\n",
       "      <td>NaN</td>\n",
       "      <td>Other and unspecified narcotics</td>\n",
       "      <td>T40.6</td>\n",
       "      <td>2020</td>\n",
       "      <td>2020</td>\n",
       "      <td>Male</td>\n",
       "      <td>M</td>\n",
       "      <td>White</td>\n",
       "      <td>2106-3</td>\n",
       "      <td>90-94 years</td>\n",
       "      <td>90-94</td>\n",
       "      <td>NaN</td>\n",
       "      <td>Not Applicable</td>\n",
       "      <td>NaN</td>\n",
       "      <td>5</td>\n",
       "    </tr>\n",
       "    <tr>\n",
       "      <th>121437</th>\n",
       "      <td>NaN</td>\n",
       "      <td>Other and unspecified narcotics</td>\n",
       "      <td>T40.6</td>\n",
       "      <td>2020</td>\n",
       "      <td>2020</td>\n",
       "      <td>Male</td>\n",
       "      <td>M</td>\n",
       "      <td>White</td>\n",
       "      <td>2106-3</td>\n",
       "      <td>95-99 years</td>\n",
       "      <td>95-99</td>\n",
       "      <td>0.0</td>\n",
       "      <td>Not Applicable</td>\n",
       "      <td>NaN</td>\n",
       "      <td>5</td>\n",
       "    </tr>\n",
       "    <tr>\n",
       "      <th>121438</th>\n",
       "      <td>NaN</td>\n",
       "      <td>Other and unspecified narcotics</td>\n",
       "      <td>T40.6</td>\n",
       "      <td>2020</td>\n",
       "      <td>2020</td>\n",
       "      <td>Male</td>\n",
       "      <td>M</td>\n",
       "      <td>White</td>\n",
       "      <td>2106-3</td>\n",
       "      <td>100+ years</td>\n",
       "      <td>100+</td>\n",
       "      <td>0.0</td>\n",
       "      <td>Not Applicable</td>\n",
       "      <td>NaN</td>\n",
       "      <td>5</td>\n",
       "    </tr>\n",
       "    <tr>\n",
       "      <th>121439</th>\n",
       "      <td>NaN</td>\n",
       "      <td>Other and unspecified narcotics</td>\n",
       "      <td>T40.6</td>\n",
       "      <td>2020</td>\n",
       "      <td>2020</td>\n",
       "      <td>Male</td>\n",
       "      <td>M</td>\n",
       "      <td>White</td>\n",
       "      <td>2106-3</td>\n",
       "      <td>Not Stated</td>\n",
       "      <td>NS</td>\n",
       "      <td>0.0</td>\n",
       "      <td>Not Applicable</td>\n",
       "      <td>NaN</td>\n",
       "      <td>5</td>\n",
       "    </tr>\n",
       "  </tbody>\n",
       "</table>\n",
       "<p>121440 rows × 15 columns</p>\n",
       "</div>"
      ],
      "text/plain": [
       "        Notes          Multiple Cause of death Multiple Cause of death Code  \\\n",
       "0         NaN                            Opium                        T40.0   \n",
       "1         NaN                            Opium                        T40.0   \n",
       "2         NaN                            Opium                        T40.0   \n",
       "3         NaN                            Opium                        T40.0   \n",
       "4         NaN                            Opium                        T40.0   \n",
       "...       ...                              ...                          ...   \n",
       "121435    NaN  Other and unspecified narcotics                        T40.6   \n",
       "121436    NaN  Other and unspecified narcotics                        T40.6   \n",
       "121437    NaN  Other and unspecified narcotics                        T40.6   \n",
       "121438    NaN  Other and unspecified narcotics                        T40.6   \n",
       "121439    NaN  Other and unspecified narcotics                        T40.6   \n",
       "\n",
       "        Year  Year Code  Gender Gender Code                              Race  \\\n",
       "0       1999       1999  Female           F  American Indian or Alaska Native   \n",
       "1       1999       1999  Female           F  American Indian or Alaska Native   \n",
       "2       1999       1999  Female           F  American Indian or Alaska Native   \n",
       "3       1999       1999  Female           F  American Indian or Alaska Native   \n",
       "4       1999       1999  Female           F  American Indian or Alaska Native   \n",
       "...      ...        ...     ...         ...                               ...   \n",
       "121435  2020       2020    Male           M                             White   \n",
       "121436  2020       2020    Male           M                             White   \n",
       "121437  2020       2020    Male           M                             White   \n",
       "121438  2020       2020    Male           M                             White   \n",
       "121439  2020       2020    Male           M                             White   \n",
       "\n",
       "       Race Code Five-Year Age Groups Five-Year Age Groups Code  Deaths  \\\n",
       "0         1002-5             < 1 year                         1     0.0   \n",
       "1         1002-5            1-4 years                     4-Jan     0.0   \n",
       "2         1002-5            5-9 years                     9-May     0.0   \n",
       "3         1002-5          10-14 years                    14-Oct     0.0   \n",
       "4         1002-5          15-19 years                     15-19     0.0   \n",
       "...          ...                  ...                       ...     ...   \n",
       "121435    2106-3          85-89 years                     85-89     0.0   \n",
       "121436    2106-3          90-94 years                     90-94     NaN   \n",
       "121437    2106-3          95-99 years                     95-99     0.0   \n",
       "121438    2106-3           100+ years                      100+     0.0   \n",
       "121439    2106-3           Not Stated                        NS     0.0   \n",
       "\n",
       "            Population  Crude Rate  socioec quintile  \n",
       "0                 9033         NaN                 1  \n",
       "1                38452         NaN                 1  \n",
       "2                56191         NaN                 1  \n",
       "3                56255         NaN                 1  \n",
       "4                51137         NaN                 1  \n",
       "...                ...         ...               ...  \n",
       "121435  Not Applicable         NaN                 5  \n",
       "121436  Not Applicable         NaN                 5  \n",
       "121437  Not Applicable         NaN                 5  \n",
       "121438  Not Applicable         NaN                 5  \n",
       "121439  Not Applicable         NaN                 5  \n",
       "\n",
       "[121440 rows x 15 columns]"
      ]
     },
     "execution_count": 49,
     "metadata": {},
     "output_type": "execute_result"
    }
   ],
   "source": [
    "# There are no complete duplicates in the dataset, based on all columns\n",
    "print(len(base))\n",
    "print(len(base.drop_duplicates()))\n",
    "base.drop_duplicates(inplace=False)"
   ]
  },
  {
   "cell_type": "markdown",
   "id": "095c3c59-4538-4462-bbca-320acb47b96a",
   "metadata": {},
   "source": [
    "## Outliers\n",
    "\n",
    "Typically, something like the below, but this dataset is relatively trustworthy\n",
    "\n",
    "```python\n",
    "# calculate IQR for column A\n",
    "Q1 = base['Deaths'].quantile(0.25)\n",
    "Q3 = base['Deaths'].quantile(0.75)\n",
    "IQR = Q3 - Q1\n",
    "\n",
    "# identify outliers\n",
    "threshold = 1.5\n",
    "outliers_deaths = base[(base['Deaths'] < Q1 - threshold * IQR) | (base['Deaths'] > Q3 + threshold * IQR)]\n",
    "```\n",
    "\n",
    "Running the above returns many outliers: about 10% of the dataset"
   ]
  },
  {
   "cell_type": "code",
   "execution_count": 87,
   "id": "a35cdb80-8a22-4307-88dc-12a185a19dab",
   "metadata": {},
   "outputs": [
    {
     "data": {
      "text/plain": [
       "<Axes: xlabel='Deaths'>"
      ]
     },
     "execution_count": 87,
     "metadata": {},
     "output_type": "execute_result"
    },
    {
     "data": {
      "image/png": "[encoded data removed]",
      "text/plain": [
       "<Figure size 640x480 with 1 Axes>"
      ]
     },
     "metadata": {},
     "output_type": "display_data"
    }
   ],
   "source": [
    "#base.boxplot(column=['Deaths', 'Crude Rate']) \n",
    "sns.boxplot(data=base, x=\"Deaths\", hue=\"Year\")"
   ]
  },
  {
   "cell_type": "code",
   "execution_count": 88,
   "id": "b8db0bd0-1769-484c-a12c-5105a081aa53",
   "metadata": {},
   "outputs": [
    {
     "data": {
      "text/plain": [
       "<Axes: xlabel='Crude Rate'>"
      ]
     },
     "execution_count": 88,
     "metadata": {},
     "output_type": "execute_result"
    },
    {
     "data": {
      "image/png": "[encoded data removed]",
      "text/plain": [
       "<Figure size 640x480 with 1 Axes>"
      ]
     },
     "metadata": {},
     "output_type": "display_data"
    }
   ],
   "source": [
    "sns.boxplot(data=base, x=\"Crude Rate\", hue=\"Year\")"
   ]
  },
  {
   "cell_type": "code",
   "execution_count": 74,
   "id": "686a8287-f560-408f-9b0e-429d5b02eb6f",
   "metadata": {},
   "outputs": [],
   "source": [
    "# calculate IQR for column A\n",
    "Q1 = base['Deaths'].quantile(0.25)\n",
    "Q3 = base['Deaths'].quantile(0.75)\n",
    "IQR = Q3 - Q1\n",
    "\n",
    "# identify outliers\n",
    "threshold = 1.5\n",
    "outliers_deaths = base[(base['Deaths'] < Q1 - threshold * IQR) | (base['Deaths'] > Q3 + threshold * IQR)]"
   ]
  },
  {
   "cell_type": "code",
   "execution_count": 75,
   "id": "41ee7c70-62ea-4981-a997-563ef5dedd9b",
   "metadata": {},
   "outputs": [
    {
     "name": "stdout",
     "output_type": "stream",
     "text": [
      "9.253129117259553\n"
     ]
    }
   ],
   "source": [
    "print((len(outliers_deaths)/len(base))*100)"
   ]
  },
  {
   "cell_type": "code",
   "execution_count": 82,
   "id": "9cbabde5-cfc5-48fa-a218-b4d14e7e42b5",
   "metadata": {},
   "outputs": [],
   "source": [
    "# calculate IQR for column A\n",
    "Q1 = base['Crude Rate'].quantile(0.25)\n",
    "Q3 = base['Crude Rate'].quantile(0.75)\n",
    "IQR = Q3 - Q1\n",
    "\n",
    "# identify outliers\n",
    "threshold = 1.5\n",
    "outliers_crude_rate = base[(base['Crude Rate'] < Q1 - threshold * IQR) | (base['Crude Rate'] > Q3 + threshold * IQR)]"
   ]
  },
  {
   "cell_type": "code",
   "execution_count": 83,
   "id": "02b0d0d6-c952-421c-b988-e53128013059",
   "metadata": {},
   "outputs": [
    {
     "name": "stdout",
     "output_type": "stream",
     "text": [
      "0.4940711462450593\n"
     ]
    }
   ],
   "source": [
    "print((len(outliers_crude_rate)/len(base))*100)"
   ]
  },
  {
   "cell_type": "code",
   "execution_count": null,
   "id": "1a319be7-60ea-4554-8991-3955e554f60d",
   "metadata": {},
   "outputs": [],
   "source": []
  }
 ],
 "metadata": {
  "kernelspec": {
   "display_name": "Python 3 (ipykernel)",
   "language": "python",
   "name": "python3"
  },
  "language_info": {
   "codemirror_mode": {
    "name": "ipython",
    "version": 3
   },
   "file_extension": ".py",
   "mimetype": "text/x-python",
   "name": "python",
   "nbconvert_exporter": "python",
   "pygments_lexer": "ipython3",
   "version": "3.9.6"
  }
 },
 "nbformat": 4,
 "nbformat_minor": 5
}
