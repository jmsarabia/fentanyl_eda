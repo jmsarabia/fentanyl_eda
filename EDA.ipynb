{
 "cells": [
  {
   "cell_type": "code",
   "execution_count": 1,
   "id": "69007005-8c52-48bf-8f74-62f3d466be75",
   "metadata": {},
   "outputs": [],
   "source": [
    "import pandas as pd"
   ]
  },
  {
   "cell_type": "code",
   "execution_count": 2,
   "id": "1346c19c-e953-4c9b-9bf5-dbac3a8427b5",
   "metadata": {},
   "outputs": [],
   "source": [
    "base = pd.read_csv(\"Multiple Cause of Death, 1999-2020 Age Gender Year Race COD Socioec.txt\", sep='\\t', skipfooter=0)"
   ]
  },
  {
   "cell_type": "code",
   "execution_count": 4,
   "id": "15c24f89-16a4-48ec-83fb-6a51a5cc4992",
   "metadata": {},
   "outputs": [
    {
     "data": {
      "text/html": [
       "<div>\n",
       "<style scoped>\n",
       "    .dataframe tbody tr th:only-of-type {\n",
       "        vertical-align: middle;\n",
       "    }\n",
       "\n",
       "    .dataframe tbody tr th {\n",
       "        vertical-align: top;\n",
       "    }\n",
       "\n",
       "    .dataframe thead th {\n",
       "        text-align: right;\n",
       "    }\n",
       "</style>\n",
       "<table border=\"1\" class=\"dataframe\">\n",
       "  <thead>\n",
       "    <tr style=\"text-align: right;\">\n",
       "      <th></th>\n",
       "      <th>Notes</th>\n",
       "      <th>Multiple Cause of death</th>\n",
       "      <th>Multiple Cause of death Code</th>\n",
       "      <th>Year</th>\n",
       "      <th>Year Code</th>\n",
       "      <th>Gender</th>\n",
       "      <th>Gender Code</th>\n",
       "      <th>Race</th>\n",
       "      <th>Race Code</th>\n",
       "      <th>Five-Year Age Groups</th>\n",
       "      <th>Five-Year Age Groups Code</th>\n",
       "      <th>Deaths</th>\n",
       "      <th>Population</th>\n",
       "      <th>Crude Rate</th>\n",
       "      <th>socioec quintile</th>\n",
       "    </tr>\n",
       "  </thead>\n",
       "  <tbody>\n",
       "    <tr>\n",
       "      <th>0</th>\n",
       "      <td>NaN</td>\n",
       "      <td>Opium</td>\n",
       "      <td>T40.0</td>\n",
       "      <td>1999</td>\n",
       "      <td>1999</td>\n",
       "      <td>Female</td>\n",
       "      <td>F</td>\n",
       "      <td>American Indian or Alaska Native</td>\n",
       "      <td>1002-5</td>\n",
       "      <td>&lt; 1 year</td>\n",
       "      <td>1</td>\n",
       "      <td>0</td>\n",
       "      <td>9033</td>\n",
       "      <td>Unreliable</td>\n",
       "      <td>1</td>\n",
       "    </tr>\n",
       "    <tr>\n",
       "      <th>1</th>\n",
       "      <td>NaN</td>\n",
       "      <td>Opium</td>\n",
       "      <td>T40.0</td>\n",
       "      <td>1999</td>\n",
       "      <td>1999</td>\n",
       "      <td>Female</td>\n",
       "      <td>F</td>\n",
       "      <td>American Indian or Alaska Native</td>\n",
       "      <td>1002-5</td>\n",
       "      <td>1-4 years</td>\n",
       "      <td>4-Jan</td>\n",
       "      <td>0</td>\n",
       "      <td>38452</td>\n",
       "      <td>Unreliable</td>\n",
       "      <td>1</td>\n",
       "    </tr>\n",
       "    <tr>\n",
       "      <th>2</th>\n",
       "      <td>NaN</td>\n",
       "      <td>Opium</td>\n",
       "      <td>T40.0</td>\n",
       "      <td>1999</td>\n",
       "      <td>1999</td>\n",
       "      <td>Female</td>\n",
       "      <td>F</td>\n",
       "      <td>American Indian or Alaska Native</td>\n",
       "      <td>1002-5</td>\n",
       "      <td>5-9 years</td>\n",
       "      <td>9-May</td>\n",
       "      <td>0</td>\n",
       "      <td>56191</td>\n",
       "      <td>Unreliable</td>\n",
       "      <td>1</td>\n",
       "    </tr>\n",
       "  </tbody>\n",
       "</table>\n",
       "</div>"
      ],
      "text/plain": [
       "   Notes Multiple Cause of death Multiple Cause of death Code  Year  \\\n",
       "0    NaN                   Opium                        T40.0  1999   \n",
       "1    NaN                   Opium                        T40.0  1999   \n",
       "2    NaN                   Opium                        T40.0  1999   \n",
       "\n",
       "   Year Code  Gender Gender Code                              Race Race Code  \\\n",
       "0       1999  Female           F  American Indian or Alaska Native    1002-5   \n",
       "1       1999  Female           F  American Indian or Alaska Native    1002-5   \n",
       "2       1999  Female           F  American Indian or Alaska Native    1002-5   \n",
       "\n",
       "  Five-Year Age Groups Five-Year Age Groups Code Deaths Population  \\\n",
       "0             < 1 year                         1      0       9033   \n",
       "1            1-4 years                     4-Jan      0      38452   \n",
       "2            5-9 years                     9-May      0      56191   \n",
       "\n",
       "   Crude Rate  socioec quintile  \n",
       "0  Unreliable                 1  \n",
       "1  Unreliable                 1  \n",
       "2  Unreliable                 1  "
      ]
     },
     "execution_count": 4,
     "metadata": {},
     "output_type": "execute_result"
    }
   ],
   "source": [
    "base.head(3)"
   ]
  },
  {
   "cell_type": "code",
   "execution_count": 6,
   "id": "2ebd2822-686e-4ab0-ab39-5fe6ebf96c4a",
   "metadata": {},
   "outputs": [
    {
     "data": {
      "text/plain": [
       "socioec quintile\n",
       "1    24288\n",
       "2    24288\n",
       "3    24288\n",
       "4    24288\n",
       "5    24288\n",
       "Name: count, dtype: int64"
      ]
     },
     "execution_count": 6,
     "metadata": {},
     "output_type": "execute_result"
    }
   ],
   "source": [
    "base[\"socioec quintile\"].value_counts()"
   ]
  },
  {
   "cell_type": "code",
   "execution_count": 15,
   "id": "22fd194e-9460-418a-b378-f77f1551832a",
   "metadata": {},
   "outputs": [],
   "source": [
    "base[\"Crude Rate\"] = pd.to_numeric(base[\"Crude Rate\"], errors='coerce')\n",
    "base[\"Deaths\"] = pd.to_numeric(base[\"Deaths\"], errors='coerce')"
   ]
  },
  {
   "cell_type": "code",
   "execution_count": 16,
   "id": "97141098-ce52-459b-922c-fe179299ccde",
   "metadata": {},
   "outputs": [
    {
     "data": {
      "text/plain": [
       "socioec quintile\n",
       "1    10448.716310\n",
       "2     8547.068287\n",
       "3    12041.539221\n",
       "4     9225.550522\n",
       "5    10015.898696\n",
       "Name: Crude Rate, dtype: float64"
      ]
     },
     "execution_count": 16,
     "metadata": {},
     "output_type": "execute_result"
    }
   ],
   "source": [
    "base.groupby([\"socioec quintile\"])[\"Crude Rate\"].sum()"
   ]
  },
  {
   "cell_type": "code",
   "execution_count": 17,
   "id": "6664cd9b-4d74-4f85-8171-6ceedd588a27",
   "metadata": {},
   "outputs": [
    {
     "data": {
      "text/plain": [
       "socioec quintile\n",
       "1    127505.0\n",
       "2    126168.0\n",
       "3    133706.0\n",
       "4    146814.0\n",
       "5    127087.0\n",
       "Name: Deaths, dtype: float64"
      ]
     },
     "execution_count": 17,
     "metadata": {},
     "output_type": "execute_result"
    }
   ],
   "source": [
    "base.groupby([\"socioec quintile\"])[\"Deaths\"].sum()"
   ]
  },
  {
   "cell_type": "code",
   "execution_count": null,
   "id": "2c9a168b-e460-4d5b-b5d0-d9d94fdc9fb9",
   "metadata": {},
   "outputs": [],
   "source": []
  }
 ],
 "metadata": {
  "kernelspec": {
   "display_name": "Python 3 (ipykernel)",
   "language": "python",
   "name": "python3"
  },
  "language_info": {
   "codemirror_mode": {
    "name": "ipython",
    "version": 3
   },
   "file_extension": ".py",
   "mimetype": "text/x-python",
   "name": "python",
   "nbconvert_exporter": "python",
   "pygments_lexer": "ipython3",
   "version": "3.9.6"
  }
 },
 "nbformat": 4,
 "nbformat_minor": 5
}
