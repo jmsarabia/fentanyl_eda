{
 "cells": [
  {
   "cell_type": "code",
   "execution_count": 18,
   "id": "69007005-8c52-48bf-8f74-62f3d466be75",
   "metadata": {},
   "outputs": [],
   "source": [
    "import pandas as pd\n",
    "import seaborn as sns"
   ]
  },
  {
   "cell_type": "code",
   "execution_count": 19,
   "id": "1346c19c-e953-4c9b-9bf5-dbac3a8427b5",
   "metadata": {},
   "outputs": [],
   "source": [
    "base = pd.read_csv(\"Multiple Cause of Death, 1999-2020 Age Gender Year Race COD Socioec.txt\", sep='\\t', skipfooter=0)"
   ]
  },
  {
   "cell_type": "code",
   "execution_count": 41,
   "id": "1a3c79fc-c04e-465c-bb73-e1ed23a73ab8",
   "metadata": {},
   "outputs": [
    {
     "data": {
      "text/html": [
       "<div>\n",
       "<style scoped>\n",
       "    .dataframe tbody tr th:only-of-type {\n",
       "        vertical-align: middle;\n",
       "    }\n",
       "\n",
       "    .dataframe tbody tr th {\n",
       "        vertical-align: top;\n",
       "    }\n",
       "\n",
       "    .dataframe thead th {\n",
       "        text-align: right;\n",
       "    }\n",
       "</style>\n",
       "<table border=\"1\" class=\"dataframe\">\n",
       "  <thead>\n",
       "    <tr style=\"text-align: right;\">\n",
       "      <th></th>\n",
       "      <th>Notes</th>\n",
       "      <th>Year</th>\n",
       "      <th>Year Code</th>\n",
       "      <th>Deaths</th>\n",
       "      <th>Crude Rate</th>\n",
       "      <th>socioec quintile</th>\n",
       "    </tr>\n",
       "  </thead>\n",
       "  <tbody>\n",
       "    <tr>\n",
       "      <th>count</th>\n",
       "      <td>0.0</td>\n",
       "      <td>121440.000000</td>\n",
       "      <td>121440.000000</td>\n",
       "      <td>100174.000000</td>\n",
       "      <td>7915.000000</td>\n",
       "      <td>121440.000000</td>\n",
       "    </tr>\n",
       "    <tr>\n",
       "      <th>mean</th>\n",
       "      <td>NaN</td>\n",
       "      <td>2009.500000</td>\n",
       "      <td>2009.500000</td>\n",
       "      <td>6.601314</td>\n",
       "      <td>6.352340</td>\n",
       "      <td>3.000000</td>\n",
       "    </tr>\n",
       "    <tr>\n",
       "      <th>std</th>\n",
       "      <td>NaN</td>\n",
       "      <td>6.344315</td>\n",
       "      <td>6.344315</td>\n",
       "      <td>33.370714</td>\n",
       "      <td>8.335494</td>\n",
       "      <td>1.414219</td>\n",
       "    </tr>\n",
       "    <tr>\n",
       "      <th>min</th>\n",
       "      <td>NaN</td>\n",
       "      <td>1999.000000</td>\n",
       "      <td>1999.000000</td>\n",
       "      <td>0.000000</td>\n",
       "      <td>0.974825</td>\n",
       "      <td>1.000000</td>\n",
       "    </tr>\n",
       "    <tr>\n",
       "      <th>25%</th>\n",
       "      <td>NaN</td>\n",
       "      <td>2004.000000</td>\n",
       "      <td>2004.000000</td>\n",
       "      <td>0.000000</td>\n",
       "      <td>2.027962</td>\n",
       "      <td>2.000000</td>\n",
       "    </tr>\n",
       "    <tr>\n",
       "      <th>50%</th>\n",
       "      <td>NaN</td>\n",
       "      <td>2009.500000</td>\n",
       "      <td>2009.500000</td>\n",
       "      <td>0.000000</td>\n",
       "      <td>3.395178</td>\n",
       "      <td>3.000000</td>\n",
       "    </tr>\n",
       "    <tr>\n",
       "      <th>75%</th>\n",
       "      <td>NaN</td>\n",
       "      <td>2015.000000</td>\n",
       "      <td>2015.000000</td>\n",
       "      <td>0.000000</td>\n",
       "      <td>7.517281</td>\n",
       "      <td>4.000000</td>\n",
       "    </tr>\n",
       "    <tr>\n",
       "      <th>max</th>\n",
       "      <td>NaN</td>\n",
       "      <td>2020.000000</td>\n",
       "      <td>2020.000000</td>\n",
       "      <td>1237.000000</td>\n",
       "      <td>94.996109</td>\n",
       "      <td>5.000000</td>\n",
       "    </tr>\n",
       "  </tbody>\n",
       "</table>\n",
       "</div>"
      ],
      "text/plain": [
       "       Notes           Year      Year Code         Deaths   Crude Rate  \\\n",
       "count    0.0  121440.000000  121440.000000  100174.000000  7915.000000   \n",
       "mean     NaN    2009.500000    2009.500000       6.601314     6.352340   \n",
       "std      NaN       6.344315       6.344315      33.370714     8.335494   \n",
       "min      NaN    1999.000000    1999.000000       0.000000     0.974825   \n",
       "25%      NaN    2004.000000    2004.000000       0.000000     2.027962   \n",
       "50%      NaN    2009.500000    2009.500000       0.000000     3.395178   \n",
       "75%      NaN    2015.000000    2015.000000       0.000000     7.517281   \n",
       "max      NaN    2020.000000    2020.000000    1237.000000    94.996109   \n",
       "\n",
       "       socioec quintile  \n",
       "count     121440.000000  \n",
       "mean           3.000000  \n",
       "std            1.414219  \n",
       "min            1.000000  \n",
       "25%            2.000000  \n",
       "50%            3.000000  \n",
       "75%            4.000000  \n",
       "max            5.000000  "
      ]
     },
     "execution_count": 41,
     "metadata": {},
     "output_type": "execute_result"
    }
   ],
   "source": [
    "base.describe()"
   ]
  },
  {
   "cell_type": "code",
   "execution_count": 20,
   "id": "15c24f89-16a4-48ec-83fb-6a51a5cc4992",
   "metadata": {},
   "outputs": [
    {
     "data": {
      "text/html": [
       "<div>\n",
       "<style scoped>\n",
       "    .dataframe tbody tr th:only-of-type {\n",
       "        vertical-align: middle;\n",
       "    }\n",
       "\n",
       "    .dataframe tbody tr th {\n",
       "        vertical-align: top;\n",
       "    }\n",
       "\n",
       "    .dataframe thead th {\n",
       "        text-align: right;\n",
       "    }\n",
       "</style>\n",
       "<table border=\"1\" class=\"dataframe\">\n",
       "  <thead>\n",
       "    <tr style=\"text-align: right;\">\n",
       "      <th></th>\n",
       "      <th>Notes</th>\n",
       "      <th>Multiple Cause of death</th>\n",
       "      <th>Multiple Cause of death Code</th>\n",
       "      <th>Year</th>\n",
       "      <th>Year Code</th>\n",
       "      <th>Gender</th>\n",
       "      <th>Gender Code</th>\n",
       "      <th>Race</th>\n",
       "      <th>Race Code</th>\n",
       "      <th>Five-Year Age Groups</th>\n",
       "      <th>Five-Year Age Groups Code</th>\n",
       "      <th>Deaths</th>\n",
       "      <th>Population</th>\n",
       "      <th>Crude Rate</th>\n",
       "      <th>socioec quintile</th>\n",
       "    </tr>\n",
       "  </thead>\n",
       "  <tbody>\n",
       "    <tr>\n",
       "      <th>0</th>\n",
       "      <td>NaN</td>\n",
       "      <td>Opium</td>\n",
       "      <td>T40.0</td>\n",
       "      <td>1999</td>\n",
       "      <td>1999</td>\n",
       "      <td>Female</td>\n",
       "      <td>F</td>\n",
       "      <td>American Indian or Alaska Native</td>\n",
       "      <td>1002-5</td>\n",
       "      <td>&lt; 1 year</td>\n",
       "      <td>1</td>\n",
       "      <td>0</td>\n",
       "      <td>9033</td>\n",
       "      <td>Unreliable</td>\n",
       "      <td>1</td>\n",
       "    </tr>\n",
       "    <tr>\n",
       "      <th>1</th>\n",
       "      <td>NaN</td>\n",
       "      <td>Opium</td>\n",
       "      <td>T40.0</td>\n",
       "      <td>1999</td>\n",
       "      <td>1999</td>\n",
       "      <td>Female</td>\n",
       "      <td>F</td>\n",
       "      <td>American Indian or Alaska Native</td>\n",
       "      <td>1002-5</td>\n",
       "      <td>1-4 years</td>\n",
       "      <td>4-Jan</td>\n",
       "      <td>0</td>\n",
       "      <td>38452</td>\n",
       "      <td>Unreliable</td>\n",
       "      <td>1</td>\n",
       "    </tr>\n",
       "    <tr>\n",
       "      <th>2</th>\n",
       "      <td>NaN</td>\n",
       "      <td>Opium</td>\n",
       "      <td>T40.0</td>\n",
       "      <td>1999</td>\n",
       "      <td>1999</td>\n",
       "      <td>Female</td>\n",
       "      <td>F</td>\n",
       "      <td>American Indian or Alaska Native</td>\n",
       "      <td>1002-5</td>\n",
       "      <td>5-9 years</td>\n",
       "      <td>9-May</td>\n",
       "      <td>0</td>\n",
       "      <td>56191</td>\n",
       "      <td>Unreliable</td>\n",
       "      <td>1</td>\n",
       "    </tr>\n",
       "  </tbody>\n",
       "</table>\n",
       "</div>"
      ],
      "text/plain": [
       "   Notes Multiple Cause of death Multiple Cause of death Code  Year  \\\n",
       "0    NaN                   Opium                        T40.0  1999   \n",
       "1    NaN                   Opium                        T40.0  1999   \n",
       "2    NaN                   Opium                        T40.0  1999   \n",
       "\n",
       "   Year Code  Gender Gender Code                              Race Race Code  \\\n",
       "0       1999  Female           F  American Indian or Alaska Native    1002-5   \n",
       "1       1999  Female           F  American Indian or Alaska Native    1002-5   \n",
       "2       1999  Female           F  American Indian or Alaska Native    1002-5   \n",
       "\n",
       "  Five-Year Age Groups Five-Year Age Groups Code Deaths Population  \\\n",
       "0             < 1 year                         1      0       9033   \n",
       "1            1-4 years                     4-Jan      0      38452   \n",
       "2            5-9 years                     9-May      0      56191   \n",
       "\n",
       "   Crude Rate  socioec quintile  \n",
       "0  Unreliable                 1  \n",
       "1  Unreliable                 1  \n",
       "2  Unreliable                 1  "
      ]
     },
     "execution_count": 20,
     "metadata": {},
     "output_type": "execute_result"
    }
   ],
   "source": [
    "base.head(3)"
   ]
  },
  {
   "cell_type": "markdown",
   "id": "780c2ad6-5102-4a3c-a4ee-1b10968dd90a",
   "metadata": {},
   "source": [
    "## Dtypes"
   ]
  },
  {
   "cell_type": "code",
   "execution_count": 42,
   "id": "d5b0662f-280c-4f49-bad5-d3fdd3aeedc7",
   "metadata": {},
   "outputs": [
    {
     "data": {
      "text/plain": [
       "Notes                           float64\n",
       "Multiple Cause of death          object\n",
       "Multiple Cause of death Code     object\n",
       "Year                              int64\n",
       "Year Code                         int64\n",
       "Gender                           object\n",
       "Gender Code                      object\n",
       "Race                             object\n",
       "Race Code                        object\n",
       "Five-Year Age Groups             object\n",
       "Five-Year Age Groups Code        object\n",
       "Deaths                          float64\n",
       "Population                       object\n",
       "Crude Rate                      float64\n",
       "socioec quintile                  int64\n",
       "dtype: object"
      ]
     },
     "execution_count": 42,
     "metadata": {},
     "output_type": "execute_result"
    }
   ],
   "source": [
    "base.dtypes"
   ]
  },
  {
   "cell_type": "code",
   "execution_count": 43,
   "id": "f554a290-4eba-4e4d-a376-2d34beb6ba1d",
   "metadata": {},
   "outputs": [
    {
     "data": {
      "text/plain": [
       "<Axes: xlabel='socioec quintile', ylabel='count'>"
      ]
     },
     "execution_count": 43,
     "metadata": {},
     "output_type": "execute_result"
    },
    {
     "data": {
      "image/png": "[encoded data removed]",
      "text/plain": [
       "<Figure size 640x480 with 1 Axes>"
      ]
     },
     "metadata": {},
     "output_type": "display_data"
    }
   ],
   "source": [
    "sns.countplot(data=base, x=base[\"socioec quintile\"])"
   ]
  },
  {
   "cell_type": "code",
   "execution_count": 31,
   "id": "22fd194e-9460-418a-b378-f77f1551832a",
   "metadata": {},
   "outputs": [],
   "source": [
    "base[\"Crude Rate\"] = pd.to_numeric(base[\"Crude Rate\"], errors='coerce')\n",
    "base[\"Deaths\"] = pd.to_numeric(base[\"Deaths\"], errors='coerce')"
   ]
  },
  {
   "cell_type": "code",
   "execution_count": 44,
   "id": "193abf0c-420f-4d39-9ef3-16a6ce854ffc",
   "metadata": {},
   "outputs": [
    {
     "data": {
      "image/png": "[encoded data removed]",
      "text/plain": [
       "<Figure size 640x480 with 1 Axes>"
      ]
     },
     "metadata": {},
     "output_type": "display_data"
    }
   ],
   "source": [
    "crude_rate_deaths_sum = base.groupby([\"socioec quintile\"])[\"Crude Rate\"].sum().reset_index()\n",
    "ax = sns.barplot(data= crude_rate_deaths_sum, \n",
    "            x=\"socioec quintile\", y=\"Crude Rate\").set(title=\"Crude Rate Deaths by Socieoeconomic Quintile\")\n"
   ]
  },
  {
   "cell_type": "code",
   "execution_count": 45,
   "id": "026d937e-1320-49a3-8bc8-a1c016dec68f",
   "metadata": {},
   "outputs": [
    {
     "data": {
      "text/plain": [
       "<Axes: xlabel='socioec quintile', ylabel='Deaths'>"
      ]
     },
     "execution_count": 45,
     "metadata": {},
     "output_type": "execute_result"
    },
    {
     "data": {
      "image/png": "[encoded data removed]",
      "text/plain": [
       "<Figure size 640x480 with 1 Axes>"
      ]
     },
     "metadata": {},
     "output_type": "display_data"
    }
   ],
   "source": [
    "sns.barplot(data=base.groupby([\"socioec quintile\"])[\"Deaths\"].sum().reset_index(), \n",
    "            x=\"socioec quintile\", y=\"Deaths\")"
   ]
  },
  {
   "cell_type": "markdown",
   "id": "d6b4f168-f908-4fb5-9a0f-877bd3872432",
   "metadata": {},
   "source": [
    "# Duplicates"
   ]
  },
  {
   "cell_type": "code",
   "execution_count": null,
   "id": "e32f04e6-622e-48ef-9fdc-7b559fc40e7b",
   "metadata": {},
   "outputs": [],
   "source": []
  },
  {
   "cell_type": "code",
   "execution_count": null,
   "id": "3be64cec-c60e-47a7-b32b-3dbebaf146e8",
   "metadata": {},
   "outputs": [],
   "source": []
  },
  {
   "cell_type": "markdown",
   "id": "095c3c59-4538-4462-bbca-320acb47b96a",
   "metadata": {},
   "source": [
    "## Outliers"
   ]
  },
  {
   "cell_type": "code",
   "execution_count": null,
   "id": "686a8287-f560-408f-9b0e-429d5b02eb6f",
   "metadata": {},
   "outputs": [],
   "source": []
  },
  {
   "cell_type": "code",
   "execution_count": null,
   "id": "bfc70c3a-b3da-4ec1-9aa4-ad0f6382ba24",
   "metadata": {},
   "outputs": [],
   "source": []
  }
 ],
 "metadata": {
  "kernelspec": {
   "display_name": "Python 3 (ipykernel)",
   "language": "python",
   "name": "python3"
  },
  "language_info": {
   "codemirror_mode": {
    "name": "ipython",
    "version": 3
   },
   "file_extension": ".py",
   "mimetype": "text/x-python",
   "name": "python",
   "nbconvert_exporter": "python",
   "pygments_lexer": "ipython3",
   "version": "3.9.6"
  }
 },
 "nbformat": 4,
 "nbformat_minor": 5
}
