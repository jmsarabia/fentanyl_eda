{
 "cells": [
  {
   "cell_type": "code",
   "execution_count": 1,
   "id": "56698ec4-3269-4dc0-b452-8ec0c03baaca",
   "metadata": {},
   "outputs": [],
   "source": [
    "import pandas as pd\n",
    "import numpy as np\n",
    "import seaborn as sns\n",
    "\n",
    "# LA County FIPs: 06037"
   ]
  },
  {
   "cell_type": "code",
   "execution_count": 53,
   "id": "5b7860d0-1b75-425c-b4bf-9e0d08375f0b",
   "metadata": {},
   "outputs": [],
   "source": [
    "LA20_Raw = \"Multiple Cause of Death, 1999-2020_LA_County.txt\"\n",
    "LA21_Raw = \"Multiple Cause of Death, 2018-2021_LA_County.txt\""
   ]
  },
  {
   "cell_type": "code",
   "execution_count": 54,
   "id": "af923b12-0fe8-4674-bc22-0848b580ed1c",
   "metadata": {},
   "outputs": [],
   "source": [
    "LA20_Raw_Data = pd.read_csv(LA20_Raw, sep='\\t', skipfooter=73, engine='python')\n",
    "LA21_Raw_Data = pd.read_csv(LA21_Raw, sep='\\t', skipfooter=55, engine='python')\n"
   ]
  },
  {
   "cell_type": "code",
   "execution_count": 55,
   "id": "d55d43aa-23d2-4c62-be3f-9cdd9dc05ee6",
   "metadata": {},
   "outputs": [],
   "source": [
    "def filter_years(df):\n",
    "    df = df[df['Year'] == 2021]\n",
    "    return df\n",
    "\n",
    "LA21_Raw_Data = filter_years(LA21_Raw_Data)"
   ]
  },
  {
   "cell_type": "code",
   "execution_count": 56,
   "id": "130ad547-ecfd-41ad-a551-1fc60d7f01f8",
   "metadata": {},
   "outputs": [],
   "source": [
    "LA21_Raw_Data['socioec quintile'] = 4.0\n",
    "LA20_Raw_Data['socioec quintile'] = 4.0"
   ]
  },
  {
   "cell_type": "code",
   "execution_count": 57,
   "id": "c9c51db3-019f-4d92-a564-f7e02802fc62",
   "metadata": {},
   "outputs": [],
   "source": [
    "race_map = {'White':'White', 'American Indian or Alaska Native':'American Indian or Alaska Native',   \n",
    "           'Black or African American':'Black or African American', \n",
    "            'Native Hawaiian or Other Pacific Islander':'Asian or Pacific Islander',\n",
    "            'Asian':'Asian or Pacific Islander',\n",
    "            'More than one race': 'More than one race',\n",
    "           }\n",
    "race_code_map = {'2106-3':'2106-3', '1002-5': '1002-5',  \n",
    "                '2054-5': '2054-5', \n",
    "                 'NHOPI':'A-PI',\n",
    "                 'A':'A-PI',\n",
    "                 'M':'M',\n",
    "                }"
   ]
  },
  {
   "cell_type": "code",
   "execution_count": 58,
   "id": "78b70750-62c9-4158-b602-f429b47303af",
   "metadata": {},
   "outputs": [],
   "source": [
    "LA21_Raw_Data['Race'] = LA21_Raw_Data['Single Race 6'].map(race_map)\n",
    "LA21_Raw_Data['Race Code'] = LA21_Raw_Data['Single Race 6 Code'].map(race_code_map)"
   ]
  },
  {
   "cell_type": "code",
   "execution_count": 59,
   "id": "b39706e5-9d13-4348-b525-4c89cbd04899",
   "metadata": {},
   "outputs": [],
   "source": [
    "LA21_Raw_Data.drop(columns=['Single Race 6', 'Single Race 6 Code'], inplace=True)"
   ]
  },
  {
   "cell_type": "code",
   "execution_count": 60,
   "id": "9a287766-43ed-456c-a71e-07256ef5b181",
   "metadata": {},
   "outputs": [],
   "source": [
    "combined_datasets_list = [LA21_Raw_Data, LA20_Raw_Data]\n",
    "\n",
    "combined_datasets = pd.concat(combined_datasets_list)"
   ]
  },
  {
   "cell_type": "code",
   "execution_count": 61,
   "id": "43ec84c1-1fd7-47ae-8bfd-bf2ed29ad6d3",
   "metadata": {},
   "outputs": [
    {
     "name": "stdout",
     "output_type": "stream",
     "text": [
      "365\n"
     ]
    }
   ],
   "source": [
    "## Drop \"Not Applicable\" Rows:\n",
    "combined_datasets = combined_datasets[combined_datasets['Population'] != 'Not Applicable']\n",
    "combined_datasets[\"Population\"] = pd.to_numeric(combined_datasets[\"Population\"], errors='coerce')\n",
    "\n",
    "## Replace \"Suppressed\" with 5 deaths\n",
    "combined_datasets['Crude Rate'] = np.where(combined_datasets[\"Crude Rate\"] == 'Suppressed', \n",
    "                              (5 / combined_datasets[\"Population\"]) * 100000, \n",
    "                              combined_datasets[\"Crude Rate\"])\n",
    "combined_datasets.loc[combined_datasets[\"Deaths\"] == 'Suppressed', \"Deaths\"] = 5\n",
    "\n",
    "print(len(combined_datasets))"
   ]
  },
  {
   "cell_type": "code",
   "execution_count": 62,
   "id": "e53912ed-731f-49c8-98e2-6a1ae4fd472b",
   "metadata": {},
   "outputs": [
    {
     "name": "stdout",
     "output_type": "stream",
     "text": [
      "365\n",
      "364\n"
     ]
    },
    {
     "data": {
      "text/html": [
       "<div>\n",
       "<style scoped>\n",
       "    .dataframe tbody tr th:only-of-type {\n",
       "        vertical-align: middle;\n",
       "    }\n",
       "\n",
       "    .dataframe tbody tr th {\n",
       "        vertical-align: top;\n",
       "    }\n",
       "\n",
       "    .dataframe thead th {\n",
       "        text-align: right;\n",
       "    }\n",
       "</style>\n",
       "<table border=\"1\" class=\"dataframe\">\n",
       "  <thead>\n",
       "    <tr style=\"text-align: right;\">\n",
       "      <th></th>\n",
       "      <th>Notes</th>\n",
       "      <th>Multiple Cause of death</th>\n",
       "      <th>Multiple Cause of death Code</th>\n",
       "      <th>Year</th>\n",
       "      <th>Year Code</th>\n",
       "      <th>Gender</th>\n",
       "      <th>Gender Code</th>\n",
       "      <th>Five-Year Age Groups</th>\n",
       "      <th>Five-Year Age Groups Code</th>\n",
       "      <th>Deaths</th>\n",
       "      <th>Population</th>\n",
       "      <th>Crude Rate</th>\n",
       "      <th>socioec quintile</th>\n",
       "      <th>Race</th>\n",
       "      <th>Race Code</th>\n",
       "    </tr>\n",
       "  </thead>\n",
       "  <tbody>\n",
       "    <tr>\n",
       "      <th>24</th>\n",
       "      <td>NaN</td>\n",
       "      <td>Heroin</td>\n",
       "      <td>T40.1</td>\n",
       "      <td>2021.0</td>\n",
       "      <td>2021.0</td>\n",
       "      <td>Male</td>\n",
       "      <td>M</td>\n",
       "      <td>25-29 years</td>\n",
       "      <td>25-29</td>\n",
       "      <td>17.0</td>\n",
       "      <td>271509.0</td>\n",
       "      <td>Unreliable</td>\n",
       "      <td>4.0</td>\n",
       "      <td>White</td>\n",
       "      <td>2106-3</td>\n",
       "    </tr>\n",
       "    <tr>\n",
       "      <th>25</th>\n",
       "      <td>NaN</td>\n",
       "      <td>Heroin</td>\n",
       "      <td>T40.1</td>\n",
       "      <td>2021.0</td>\n",
       "      <td>2021.0</td>\n",
       "      <td>Male</td>\n",
       "      <td>M</td>\n",
       "      <td>30-34 years</td>\n",
       "      <td>30-34</td>\n",
       "      <td>23.0</td>\n",
       "      <td>288549.0</td>\n",
       "      <td>8.0</td>\n",
       "      <td>4.0</td>\n",
       "      <td>White</td>\n",
       "      <td>2106-3</td>\n",
       "    </tr>\n",
       "    <tr>\n",
       "      <th>26</th>\n",
       "      <td>NaN</td>\n",
       "      <td>Heroin</td>\n",
       "      <td>T40.1</td>\n",
       "      <td>2021.0</td>\n",
       "      <td>2021.0</td>\n",
       "      <td>Male</td>\n",
       "      <td>M</td>\n",
       "      <td>35-39 years</td>\n",
       "      <td>35-39</td>\n",
       "      <td>15.0</td>\n",
       "      <td>263352.0</td>\n",
       "      <td>Unreliable</td>\n",
       "      <td>4.0</td>\n",
       "      <td>White</td>\n",
       "      <td>2106-3</td>\n",
       "    </tr>\n",
       "    <tr>\n",
       "      <th>27</th>\n",
       "      <td>NaN</td>\n",
       "      <td>Heroin</td>\n",
       "      <td>T40.1</td>\n",
       "      <td>2021.0</td>\n",
       "      <td>2021.0</td>\n",
       "      <td>Male</td>\n",
       "      <td>M</td>\n",
       "      <td>45-49 years</td>\n",
       "      <td>45-49</td>\n",
       "      <td>12.0</td>\n",
       "      <td>230527.0</td>\n",
       "      <td>Unreliable</td>\n",
       "      <td>4.0</td>\n",
       "      <td>White</td>\n",
       "      <td>2106-3</td>\n",
       "    </tr>\n",
       "    <tr>\n",
       "      <th>28</th>\n",
       "      <td>NaN</td>\n",
       "      <td>Heroin</td>\n",
       "      <td>T40.1</td>\n",
       "      <td>2021.0</td>\n",
       "      <td>2021.0</td>\n",
       "      <td>Male</td>\n",
       "      <td>M</td>\n",
       "      <td>50-54 years</td>\n",
       "      <td>50-54</td>\n",
       "      <td>12.0</td>\n",
       "      <td>240500.0</td>\n",
       "      <td>Unreliable</td>\n",
       "      <td>4.0</td>\n",
       "      <td>White</td>\n",
       "      <td>2106-3</td>\n",
       "    </tr>\n",
       "    <tr>\n",
       "      <th>...</th>\n",
       "      <td>...</td>\n",
       "      <td>...</td>\n",
       "      <td>...</td>\n",
       "      <td>...</td>\n",
       "      <td>...</td>\n",
       "      <td>...</td>\n",
       "      <td>...</td>\n",
       "      <td>...</td>\n",
       "      <td>...</td>\n",
       "      <td>...</td>\n",
       "      <td>...</td>\n",
       "      <td>...</td>\n",
       "      <td>...</td>\n",
       "      <td>...</td>\n",
       "      <td>...</td>\n",
       "    </tr>\n",
       "    <tr>\n",
       "      <th>321</th>\n",
       "      <td>Show Totals: Disabled</td>\n",
       "      <td>None</td>\n",
       "      <td>None</td>\n",
       "      <td>NaN</td>\n",
       "      <td>NaN</td>\n",
       "      <td>None</td>\n",
       "      <td>None</td>\n",
       "      <td>None</td>\n",
       "      <td>None</td>\n",
       "      <td>NaN</td>\n",
       "      <td>NaN</td>\n",
       "      <td>None</td>\n",
       "      <td>4.0</td>\n",
       "      <td>None</td>\n",
       "      <td>None</td>\n",
       "    </tr>\n",
       "    <tr>\n",
       "      <th>322</th>\n",
       "      <td>Show Zero Values: False</td>\n",
       "      <td>None</td>\n",
       "      <td>None</td>\n",
       "      <td>NaN</td>\n",
       "      <td>NaN</td>\n",
       "      <td>None</td>\n",
       "      <td>None</td>\n",
       "      <td>None</td>\n",
       "      <td>None</td>\n",
       "      <td>NaN</td>\n",
       "      <td>NaN</td>\n",
       "      <td>None</td>\n",
       "      <td>4.0</td>\n",
       "      <td>None</td>\n",
       "      <td>None</td>\n",
       "    </tr>\n",
       "    <tr>\n",
       "      <th>323</th>\n",
       "      <td>Show Suppressed: False</td>\n",
       "      <td>None</td>\n",
       "      <td>None</td>\n",
       "      <td>NaN</td>\n",
       "      <td>NaN</td>\n",
       "      <td>None</td>\n",
       "      <td>None</td>\n",
       "      <td>None</td>\n",
       "      <td>None</td>\n",
       "      <td>NaN</td>\n",
       "      <td>NaN</td>\n",
       "      <td>None</td>\n",
       "      <td>4.0</td>\n",
       "      <td>None</td>\n",
       "      <td>None</td>\n",
       "    </tr>\n",
       "    <tr>\n",
       "      <th>324</th>\n",
       "      <td>Calculate Rates Per: 100,000</td>\n",
       "      <td>None</td>\n",
       "      <td>None</td>\n",
       "      <td>NaN</td>\n",
       "      <td>NaN</td>\n",
       "      <td>None</td>\n",
       "      <td>None</td>\n",
       "      <td>None</td>\n",
       "      <td>None</td>\n",
       "      <td>NaN</td>\n",
       "      <td>NaN</td>\n",
       "      <td>None</td>\n",
       "      <td>4.0</td>\n",
       "      <td>None</td>\n",
       "      <td>None</td>\n",
       "    </tr>\n",
       "    <tr>\n",
       "      <th>325</th>\n",
       "      <td>Rate Options: Default intercensal populations ...</td>\n",
       "      <td>None</td>\n",
       "      <td>None</td>\n",
       "      <td>NaN</td>\n",
       "      <td>NaN</td>\n",
       "      <td>None</td>\n",
       "      <td>None</td>\n",
       "      <td>None</td>\n",
       "      <td>None</td>\n",
       "      <td>NaN</td>\n",
       "      <td>NaN</td>\n",
       "      <td>None</td>\n",
       "      <td>4.0</td>\n",
       "      <td>None</td>\n",
       "      <td>None</td>\n",
       "    </tr>\n",
       "  </tbody>\n",
       "</table>\n",
       "<p>364 rows × 15 columns</p>\n",
       "</div>"
      ],
      "text/plain": [
       "                                                 Notes  \\\n",
       "24                                                 NaN   \n",
       "25                                                 NaN   \n",
       "26                                                 NaN   \n",
       "27                                                 NaN   \n",
       "28                                                 NaN   \n",
       "..                                                 ...   \n",
       "321                              Show Totals: Disabled   \n",
       "322                            Show Zero Values: False   \n",
       "323                             Show Suppressed: False   \n",
       "324                       Calculate Rates Per: 100,000   \n",
       "325  Rate Options: Default intercensal populations ...   \n",
       "\n",
       "    Multiple Cause of death Multiple Cause of death Code    Year  Year Code  \\\n",
       "24                   Heroin                        T40.1  2021.0     2021.0   \n",
       "25                   Heroin                        T40.1  2021.0     2021.0   \n",
       "26                   Heroin                        T40.1  2021.0     2021.0   \n",
       "27                   Heroin                        T40.1  2021.0     2021.0   \n",
       "28                   Heroin                        T40.1  2021.0     2021.0   \n",
       "..                      ...                          ...     ...        ...   \n",
       "321                    None                         None     NaN        NaN   \n",
       "322                    None                         None     NaN        NaN   \n",
       "323                    None                         None     NaN        NaN   \n",
       "324                    None                         None     NaN        NaN   \n",
       "325                    None                         None     NaN        NaN   \n",
       "\n",
       "    Gender Gender Code Five-Year Age Groups Five-Year Age Groups Code  Deaths  \\\n",
       "24    Male           M          25-29 years                     25-29    17.0   \n",
       "25    Male           M          30-34 years                     30-34    23.0   \n",
       "26    Male           M          35-39 years                     35-39    15.0   \n",
       "27    Male           M          45-49 years                     45-49    12.0   \n",
       "28    Male           M          50-54 years                     50-54    12.0   \n",
       "..     ...         ...                  ...                       ...     ...   \n",
       "321   None        None                 None                      None     NaN   \n",
       "322   None        None                 None                      None     NaN   \n",
       "323   None        None                 None                      None     NaN   \n",
       "324   None        None                 None                      None     NaN   \n",
       "325   None        None                 None                      None     NaN   \n",
       "\n",
       "     Population  Crude Rate  socioec quintile   Race Race Code  \n",
       "24     271509.0  Unreliable               4.0  White    2106-3  \n",
       "25     288549.0         8.0               4.0  White    2106-3  \n",
       "26     263352.0  Unreliable               4.0  White    2106-3  \n",
       "27     230527.0  Unreliable               4.0  White    2106-3  \n",
       "28     240500.0  Unreliable               4.0  White    2106-3  \n",
       "..          ...         ...               ...    ...       ...  \n",
       "321         NaN        None               4.0   None      None  \n",
       "322         NaN        None               4.0   None      None  \n",
       "323         NaN        None               4.0   None      None  \n",
       "324         NaN        None               4.0   None      None  \n",
       "325         NaN        None               4.0   None      None  \n",
       "\n",
       "[364 rows x 15 columns]"
      ]
     },
     "execution_count": 62,
     "metadata": {},
     "output_type": "execute_result"
    }
   ],
   "source": [
    "# There are no complete duplicates in the dataset, based on all columns\n",
    "print(len(combined_datasets))\n",
    "print(len(combined_datasets.drop_duplicates()))\n",
    "combined_datasets.drop_duplicates(inplace=False)"
   ]
  },
  {
   "cell_type": "code",
   "execution_count": 63,
   "id": "7cbeff6d-c200-43ff-874d-4604d24255a8",
   "metadata": {},
   "outputs": [
    {
     "data": {
      "text/html": [
       "<div>\n",
       "<style scoped>\n",
       "    .dataframe tbody tr th:only-of-type {\n",
       "        vertical-align: middle;\n",
       "    }\n",
       "\n",
       "    .dataframe tbody tr th {\n",
       "        vertical-align: top;\n",
       "    }\n",
       "\n",
       "    .dataframe thead th {\n",
       "        text-align: right;\n",
       "    }\n",
       "</style>\n",
       "<table border=\"1\" class=\"dataframe\">\n",
       "  <thead>\n",
       "    <tr style=\"text-align: right;\">\n",
       "      <th></th>\n",
       "      <th>Field</th>\n",
       "      <th>Count of Nulls</th>\n",
       "      <th>Percent of Total</th>\n",
       "    </tr>\n",
       "  </thead>\n",
       "  <tbody>\n",
       "    <tr>\n",
       "      <th>0</th>\n",
       "      <td>Notes</td>\n",
       "      <td>352</td>\n",
       "      <td>0.964384</td>\n",
       "    </tr>\n",
       "    <tr>\n",
       "      <th>1</th>\n",
       "      <td>Multiple Cause of death</td>\n",
       "      <td>13</td>\n",
       "      <td>0.035616</td>\n",
       "    </tr>\n",
       "    <tr>\n",
       "      <th>2</th>\n",
       "      <td>Multiple Cause of death Code</td>\n",
       "      <td>13</td>\n",
       "      <td>0.035616</td>\n",
       "    </tr>\n",
       "    <tr>\n",
       "      <th>3</th>\n",
       "      <td>Year</td>\n",
       "      <td>13</td>\n",
       "      <td>0.035616</td>\n",
       "    </tr>\n",
       "    <tr>\n",
       "      <th>4</th>\n",
       "      <td>Year Code</td>\n",
       "      <td>13</td>\n",
       "      <td>0.035616</td>\n",
       "    </tr>\n",
       "    <tr>\n",
       "      <th>5</th>\n",
       "      <td>Gender</td>\n",
       "      <td>13</td>\n",
       "      <td>0.035616</td>\n",
       "    </tr>\n",
       "    <tr>\n",
       "      <th>6</th>\n",
       "      <td>Gender Code</td>\n",
       "      <td>13</td>\n",
       "      <td>0.035616</td>\n",
       "    </tr>\n",
       "    <tr>\n",
       "      <th>7</th>\n",
       "      <td>Five-Year Age Groups</td>\n",
       "      <td>13</td>\n",
       "      <td>0.035616</td>\n",
       "    </tr>\n",
       "    <tr>\n",
       "      <th>8</th>\n",
       "      <td>Five-Year Age Groups Code</td>\n",
       "      <td>13</td>\n",
       "      <td>0.035616</td>\n",
       "    </tr>\n",
       "    <tr>\n",
       "      <th>9</th>\n",
       "      <td>Deaths</td>\n",
       "      <td>13</td>\n",
       "      <td>0.035616</td>\n",
       "    </tr>\n",
       "    <tr>\n",
       "      <th>10</th>\n",
       "      <td>Population</td>\n",
       "      <td>13</td>\n",
       "      <td>0.035616</td>\n",
       "    </tr>\n",
       "    <tr>\n",
       "      <th>11</th>\n",
       "      <td>Crude Rate</td>\n",
       "      <td>13</td>\n",
       "      <td>0.035616</td>\n",
       "    </tr>\n",
       "    <tr>\n",
       "      <th>12</th>\n",
       "      <td>socioec quintile</td>\n",
       "      <td>0</td>\n",
       "      <td>0.000000</td>\n",
       "    </tr>\n",
       "    <tr>\n",
       "      <th>13</th>\n",
       "      <td>Race</td>\n",
       "      <td>13</td>\n",
       "      <td>0.035616</td>\n",
       "    </tr>\n",
       "    <tr>\n",
       "      <th>14</th>\n",
       "      <td>Race Code</td>\n",
       "      <td>13</td>\n",
       "      <td>0.035616</td>\n",
       "    </tr>\n",
       "  </tbody>\n",
       "</table>\n",
       "</div>"
      ],
      "text/plain": [
       "                           Field  Count of Nulls  Percent of Total\n",
       "0                          Notes             352          0.964384\n",
       "1        Multiple Cause of death              13          0.035616\n",
       "2   Multiple Cause of death Code              13          0.035616\n",
       "3                           Year              13          0.035616\n",
       "4                      Year Code              13          0.035616\n",
       "5                         Gender              13          0.035616\n",
       "6                    Gender Code              13          0.035616\n",
       "7           Five-Year Age Groups              13          0.035616\n",
       "8      Five-Year Age Groups Code              13          0.035616\n",
       "9                         Deaths              13          0.035616\n",
       "10                    Population              13          0.035616\n",
       "11                    Crude Rate              13          0.035616\n",
       "12              socioec quintile               0          0.000000\n",
       "13                          Race              13          0.035616\n",
       "14                     Race Code              13          0.035616"
      ]
     },
     "execution_count": 63,
     "metadata": {},
     "output_type": "execute_result"
    }
   ],
   "source": [
    "field = []\n",
    "count_nulls = []\n",
    "percent_nulls = []\n",
    "for (value, column) in zip(combined_datasets.isnull().sum(), combined_datasets.isnull().columns):\n",
    "    field.append(column)\n",
    "    count_nulls.append(value)\n",
    "    percent_nulls.append(value/len(combined_datasets))\n",
    "\n",
    "pd.DataFrame(zip(field, count_nulls, percent_nulls), columns = [\"Field\", \"Count of Nulls\", \"Percent of Total\"])"
   ]
  },
  {
   "cell_type": "code",
   "execution_count": 64,
   "id": "a2099d26-6a89-4e1f-9191-3390e6299d36",
   "metadata": {},
   "outputs": [
    {
     "name": "stderr",
     "output_type": "stream",
     "text": [
      "/var/folders/yl/zy_202992md5vzz6c5thvp6w0000gr/T/ipykernel_32361/728463618.py:2: SettingWithCopyWarning: \n",
      "A value is trying to be set on a copy of a slice from a DataFrame\n",
      "\n",
      "See the caveats in the documentation: https://pandas.pydata.org/pandas-docs/stable/user_guide/indexing.html#returning-a-view-versus-a-copy\n",
      "  cleaned.drop(columns=['Notes'], inplace=True)\n"
     ]
    }
   ],
   "source": [
    "cleaned = combined_datasets[(combined_datasets['Deaths'].isnull() == False) & (combined_datasets['Crude Rate'].isnull() == False)]\n",
    "cleaned.drop(columns=['Notes'], inplace=True)"
   ]
  },
  {
   "cell_type": "code",
   "execution_count": 65,
   "id": "04163693-ca4d-4ccb-9147-0502df85e8de",
   "metadata": {},
   "outputs": [],
   "source": [
    "# Define a function to calculate the midpoint of a range\n",
    "def calculate_midpoint(range_str):\n",
    "    if range_str == '< 1':\n",
    "        return 0.5  # Assuming \"< 1\" corresponds to 0.5 as midpoint\n",
    "    start, end = map(int, range_str.split('-'))\n",
    "    return (start + end) / 2\n",
    "\n",
    "\n",
    "def clean_up_age(df):\n",
    "    \"\"\"\n",
    "    Fix the dates in the Five-Year Age Groups Code column\n",
    "    Add an extra variable of ‘midpoint for age group’\n",
    "    \"\"\"\n",
    "    cleaned = df.copy()\n",
    "    print(f\"current unique values in five year age code groups code column: {cleaned['Five-Year Age Groups Code'].unique()}\")\n",
    "    cleaned['Five-Year Age Groups Code'] = cleaned['Five-Year Age Groups'].str.extract(r'(\\d+-\\d+|< 1)')\n",
    "    print(f\"new unique values in five year age code groups code column: {cleaned['Five-Year Age Groups Code'].unique()}\")\n",
    "    \n",
    "    # Apply the function to create a new column\n",
    "    cleaned['age_midpoint'] = cleaned['Five-Year Age Groups Code'].apply(calculate_midpoint)\n",
    "\n",
    "    print(f\"new unique values with the age midpoint: {cleaned['age_midpoint'].unique()}\")\n",
    "    return cleaned"
   ]
  },
  {
   "cell_type": "code",
   "execution_count": 66,
   "id": "6309d7ca-d87c-4d25-865c-3bba4a1f18d2",
   "metadata": {},
   "outputs": [
    {
     "name": "stdout",
     "output_type": "stream",
     "text": [
      "current unique values in five year age code groups code column: ['25-29' '30-34' '35-39' '45-49' '50-54' '55-59' '60-64' '65-69' '40-44'\n",
      " '15-19' '20-24']\n",
      "new unique values in five year age code groups code column: ['25-29' '30-34' '35-39' '45-49' '50-54' '55-59' '60-64' '65-69' '40-44'\n",
      " '15-19' '20-24']\n",
      "new unique values with the age midpoint: [27. 32. 37. 47. 52. 57. 62. 67. 42. 17. 22.]\n"
     ]
    }
   ],
   "source": [
    "age_cleaned = clean_up_age(cleaned)"
   ]
  },
  {
   "cell_type": "code",
   "execution_count": 67,
   "id": "75462621-467a-421b-977e-3baa4bd5c107",
   "metadata": {},
   "outputs": [],
   "source": [
    "age_cleaned.to_csv('cleaned_wonder_LA_County_2021.csv', index=False)"
   ]
  },
  {
   "cell_type": "code",
   "execution_count": 68,
   "id": "f82d77df-b13a-48c7-9d1d-e16f3701ed69",
   "metadata": {},
   "outputs": [],
   "source": [
    "age_cleaned[\"Crude Rate\"] = pd.to_numeric(age_cleaned[\"Crude Rate\"], errors='coerce')\n",
    "age_cleaned[\"Deaths\"] = pd.to_numeric(age_cleaned[\"Deaths\"], errors='coerce')"
   ]
  },
  {
   "cell_type": "code",
   "execution_count": 69,
   "id": "f9d8ac12-5c58-408d-83f4-702ca4c8c589",
   "metadata": {},
   "outputs": [
    {
     "name": "stdout",
     "output_type": "stream",
     "text": [
      "16.62803738317757\n",
      "1779.2\n"
     ]
    }
   ],
   "source": [
    "print(age_cleaned['Crude Rate'].mean())\n",
    "print(age_cleaned['Crude Rate'].sum())"
   ]
  },
  {
   "cell_type": "code",
   "execution_count": 70,
   "id": "9a437982-d082-43b1-b10b-96c323477221",
   "metadata": {},
   "outputs": [
    {
     "data": {
      "image/png": "[encoded data removed]",
      "text/plain": [
       "<Figure size 640x480 with 1 Axes>"
      ]
     },
     "metadata": {},
     "output_type": "display_data"
    }
   ],
   "source": [
    "# Sum of Deaths over time\n",
    "deaths_sum = age_cleaned.groupby(['Year'])['Deaths'].sum().reset_index()\n",
    "\n",
    "bar_deaths = sns.barplot(data=deaths_sum, x='Year', y='Deaths')\n",
    "\n",
    "for item in bar_deaths.get_xticklabels():\n",
    "    item.set_rotation(45)"
   ]
  },
  {
   "cell_type": "code",
   "execution_count": 71,
   "id": "49229a69-b347-4d47-8ff0-40a2f0951e34",
   "metadata": {},
   "outputs": [
    {
     "data": {
      "image/png": "[encoded data removed]",
      "text/plain": [
       "<Figure size 640x480 with 1 Axes>"
      ]
     },
     "metadata": {},
     "output_type": "display_data"
    }
   ],
   "source": [
    "# Sum of Deaths over time, fentanyl\n",
    "df_old_plus_2021_fentanyl = age_cleaned[age_cleaned['Multiple Cause of death'] == 'Other synthetic narcotics']\n",
    "deaths_sum_f = df_old_plus_2021_fentanyl.groupby(['Year'])['Deaths'].sum().reset_index()\n",
    "\n",
    "bar_deaths = sns.barplot(data=deaths_sum_f, x='Year', y='Deaths')\n",
    "\n",
    "for item in bar_deaths.get_xticklabels():\n",
    "    item.set_rotation(45)"
   ]
  },
  {
   "cell_type": "code",
   "execution_count": 72,
   "id": "a3fbd962-7366-470f-8c3f-73b241746ef4",
   "metadata": {},
   "outputs": [],
   "source": [
    "crude_rate_mean = age_cleaned.groupby(['Year', 'Multiple Cause of death'])['Crude Rate'].mean().reset_index()"
   ]
  },
  {
   "cell_type": "code",
   "execution_count": 74,
   "id": "2d051931-e79c-4b6e-a684-decd0fc1e6f1",
   "metadata": {},
   "outputs": [
    {
     "data": {
      "text/plain": [
       "[Text(0.5, 1.0, 'Multiple COD Over Time - LA County')]"
      ]
     },
     "execution_count": 74,
     "metadata": {},
     "output_type": "execute_result"
    },
    {
     "data": {
      "image/png": "[encoded data removed]",
      "text/plain": [
       "<Figure size 640x480 with 1 Axes>"
      ]
     },
     "metadata": {},
     "output_type": "display_data"
    }
   ],
   "source": [
    "# Sum of Deaths over time\n",
    "COD_Code = sns.lineplot(data=crude_rate_mean, x='Year', y='Crude Rate', hue='Multiple Cause of death')\n",
    "\n",
    "for item in COD_Code.get_xticklabels():\n",
    "    item.set_rotation(45)\n",
    "title = 'Multiple COD Over Time - LA County'\n",
    "\n",
    "COD_Code.set(title=title)"
   ]
  },
  {
   "cell_type": "code",
   "execution_count": null,
   "id": "a36bf94c-fdd4-47d8-9774-eb771e9ba0ef",
   "metadata": {},
   "outputs": [],
   "source": []
  }
 ],
 "metadata": {
  "kernelspec": {
   "display_name": "Python 3 (ipykernel)",
   "language": "python",
   "name": "python3"
  },
  "language_info": {
   "codemirror_mode": {
    "name": "ipython",
    "version": 3
   },
   "file_extension": ".py",
   "mimetype": "text/x-python",
   "name": "python",
   "nbconvert_exporter": "python",
   "pygments_lexer": "ipython3",
   "version": "3.9.6"
  }
 },
 "nbformat": 4,
 "nbformat_minor": 5
}
