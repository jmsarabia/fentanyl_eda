{
 "cells": [
  {
   "cell_type": "code",
   "execution_count": 1,
   "id": "7d50c11f-a730-47ee-902d-f19603d7c066",
   "metadata": {},
   "outputs": [],
   "source": [
    "import pandas as pd\n",
    "import numpy as np\n",
    "import seaborn as sns"
   ]
  },
  {
   "cell_type": "code",
   "execution_count": 14,
   "id": "deb5da9b-082a-4b69-b60b-a4b4138852dd",
   "metadata": {},
   "outputs": [],
   "source": [
    "EDU0_Raw = \"../wonder/data_edu/Multiple Cause of Death, 2018-2021, Single Race (EDU_0-.1).txt\"\n",
    "EDU1_Raw = \"data_edu/Multiple Cause of Death, 2018-2021, Single Race (EDU_.1-.2).txt\"\n",
    "EDU2_Raw = \"data_edu/Multiple Cause of Death, 2018-2021, Single Race (EDU_.2-.3).txt\"\n",
    "EDU3_Raw = \"data_edu/Multiple Cause of Death, 2018-2021, Single Race (EDU_.3-.4).txt\"\n",
    "EDU4_Raw = \"data_edu/Multiple Cause of Death, 2018-2021, Single Race (EDU_.4-.5).txt\"\n",
    "EDU5_Raw = \"data_edu/Multiple Cause of Death, 2018-2021, Single Race (EDU_.5-.6).txt\"\n",
    "EDU6_Raw = \"data_edu/Multiple Cause of Death, 2018-2021, Single Race (EDU_.6-.7).txt\"\n",
    "EDU7_Raw = \"data_edu/Multiple Cause of Death, 2018-2021, Single Race (EDU_.7-.8).txt\""
   ]
  },
  {
   "cell_type": "code",
   "execution_count": 130,
   "id": "c55b6a5b-f80f-4d28-ae3d-8546721d4441",
   "metadata": {},
   "outputs": [],
   "source": [
    "EDU0 = pd.read_csv(EDU0_Raw, sep='\\t', skipfooter=64, engine='python')\n",
    "EDU1 = pd.read_csv(EDU1_Raw, sep='\\t', skipfooter=405, engine='python')\n",
    "EDU2 = pd.read_csv(EDU2_Raw, sep='\\t', skipfooter=272, engine='python')\n",
    "EDU3 = pd.read_csv(EDU3_Raw, sep='\\t', skipfooter=131, engine='python')\n",
    "EDU4 = pd.read_csv(EDU4_Raw, sep='\\t', skipfooter=85, engine='python')\n",
    "EDU5 = pd.read_csv(EDU5_Raw, sep='\\t', skipfooter=63, engine='python')\n",
    "EDU6 = pd.read_csv(EDU6_Raw, sep='\\t', skipfooter=56, engine='python')"
   ]
  },
  {
   "cell_type": "code",
   "execution_count": 142,
   "id": "54c19f69-f159-4539-85dd-eb89fc04113c",
   "metadata": {},
   "outputs": [],
   "source": [
    "dataframes = [EDU0, EDU1, EDU2, EDU3, EDU4, EDU5, EDU6]\n",
    "edu_df = pd.concat(dataframes)"
   ]
  },
  {
   "cell_type": "code",
   "execution_count": 143,
   "id": "3d5bf0ca-5607-4c9f-86b1-49b04923079a",
   "metadata": {},
   "outputs": [
    {
     "name": "stdout",
     "output_type": "stream",
     "text": [
      "2775\n",
      "2775\n"
     ]
    }
   ],
   "source": [
    "## Drop \"Not Applicable\" Rows:\n",
    "def drop_na_rows(df_input):\n",
    "    df = df_input.copy()\n",
    "    df = df[df['Population'] != 'Not Applicable']\n",
    "    df[\"Population\"] = pd.to_numeric(df[\"Population\"], errors='coerce')\n",
    "    \n",
    "    ## Replace \"Suppressed\" with 5 deaths\n",
    "    df['Crude Rate'] = np.where(df[\"Crude Rate\"] == 'Suppressed', \n",
    "                                  (5 / df[\"Population\"]) * 100000, \n",
    "                                  df[\"Crude Rate\"])\n",
    "    df.loc[df[\"Deaths\"] == 'Suppressed', \"Deaths\"] = 5\n",
    "    \n",
    "    print(len(df))\n",
    "\n",
    "    # There are no complete duplicates in the dataset, based on all columns\n",
    "    print(len(df.drop_duplicates()))\n",
    "    df.drop_duplicates(inplace=False)\n",
    "    return df\n",
    "\n",
    "edu_df = drop_na_rows(edu_df)"
   ]
  },
  {
   "cell_type": "code",
   "execution_count": 144,
   "id": "597f9889-b9bd-4ac6-874f-9ef39ee1c854",
   "metadata": {},
   "outputs": [
    {
     "name": "stdout",
     "output_type": "stream",
     "text": [
      "                        Field  Count of Nulls  Percent of Total\n",
      "0                       Notes            2775               1.0\n",
      "1               Census Region               0               0.0\n",
      "2          Census Region Code               0               0.0\n",
      "3                        Year               0               0.0\n",
      "4                   Year Code               0               0.0\n",
      "5                      Gender               0               0.0\n",
      "6                 Gender Code               0               0.0\n",
      "7               Single Race 6               0               0.0\n",
      "8          Single Race 6 Code               0               0.0\n",
      "9        Five-Year Age Groups               0               0.0\n",
      "10  Five-Year Age Groups Code               0               0.0\n",
      "11                     Deaths               0               0.0\n",
      "12                 Population               0               0.0\n",
      "13                 Crude Rate               0               0.0\n"
     ]
    }
   ],
   "source": [
    "def clean_and_print_null_count(df_in):\n",
    "    df = df_in.copy()\n",
    "    field = []\n",
    "    count_nulls = []\n",
    "    percent_nulls = []\n",
    "    for (value, column) in zip(df.isnull().sum(), df.isnull().columns):\n",
    "        field.append(column)\n",
    "        count_nulls.append(value)\n",
    "        percent_nulls.append(value/len(df))\n",
    "    \n",
    "    print(pd.DataFrame(zip(field, count_nulls, percent_nulls), columns = [\"Field\", \"Count of Nulls\", \"Percent of Total\"]))\n",
    "    cleaned = df[(df['Deaths'].isnull() == False) & (df['Crude Rate'].isnull() == False)]\n",
    "    cleaned.drop(columns=['Notes'], inplace=True)\n",
    "    return cleaned\n",
    "\n",
    "cleaned_edu = clean_and_print_null_count(edu_df)"
   ]
  },
  {
   "cell_type": "code",
   "execution_count": 145,
   "id": "43f9bc4d-2b60-4f4f-b80b-a09519dcec3e",
   "metadata": {},
   "outputs": [],
   "source": [
    "# Define a function to calculate the midpoint of a range\n",
    "def calculate_midpoint(range_str):\n",
    "    if range_str == '< 1':\n",
    "        return 0.5  # Assuming \"< 1\" corresponds to 0.5 as midpoint\n",
    "    start, end = map(int, range_str.split('-'))\n",
    "    return (start + end) / 2\n",
    "\n",
    "\n",
    "def clean_up_age(df):\n",
    "    \"\"\"\n",
    "    Fix the dates in the Five-Year Age Groups Code column\n",
    "    Add an extra variable of ‘midpoint for age group’\n",
    "    \"\"\"\n",
    "    cleaned = df.copy()\n",
    "    print(f\"current unique values in five year age code groups code column: {cleaned['Five-Year Age Groups Code'].unique()}\")\n",
    "    cleaned['Five-Year Age Groups Code'] = cleaned['Five-Year Age Groups'].str.extract(r'(\\d+-\\d+|< 1)')\n",
    "    print(f\"new unique values in five year age code groups code column: {cleaned['Five-Year Age Groups Code'].unique()}\")\n",
    "    \n",
    "    # Apply the function to create a new column\n",
    "    cleaned['age_midpoint'] = cleaned['Five-Year Age Groups Code'].apply(calculate_midpoint)\n",
    "\n",
    "    print(f\"new unique values with the age midpoint: {cleaned['age_midpoint'].unique()}\")\n",
    "    return cleaned"
   ]
  },
  {
   "cell_type": "code",
   "execution_count": 146,
   "id": "5fef41eb-8867-4531-a00d-6c02682e0d5c",
   "metadata": {},
   "outputs": [
    {
     "name": "stdout",
     "output_type": "stream",
     "text": [
      "current unique values in five year age code groups code column: ['35-39' '30-34' '45-49' '50-54' '40-44' '25-29' '55-59' '60-64' '20-24'\n",
      " '65-69' '15-19' '70-74' '75-79']\n",
      "new unique values in five year age code groups code column: ['35-39' '30-34' '45-49' '50-54' '40-44' '25-29' '55-59' '60-64' '20-24'\n",
      " '65-69' '15-19' '70-74' '75-79']\n",
      "new unique values with the age midpoint: [37. 32. 47. 52. 42. 27. 57. 62. 22. 67. 17. 72. 77.]\n"
     ]
    }
   ],
   "source": [
    "age_cleaned = clean_up_age(cleaned_edu)"
   ]
  },
  {
   "cell_type": "code",
   "execution_count": 147,
   "id": "f7bfd407-537f-475f-b474-a3b3ee2d200e",
   "metadata": {},
   "outputs": [],
   "source": [
    "age_cleaned.to_csv('cleaned_wonder_edu_2016-2021.csv', index=False)"
   ]
  },
  {
   "cell_type": "code",
   "execution_count": 148,
   "id": "b5ac5358-65f4-4afd-979e-38a68ce0cf92",
   "metadata": {},
   "outputs": [],
   "source": [
    "age_cleaned[\"Crude Rate\"] = pd.to_numeric(age_cleaned[\"Crude Rate\"], errors='coerce')\n",
    "age_cleaned[\"Deaths\"] = pd.to_numeric(age_cleaned[\"Deaths\"], errors='coerce')"
   ]
  },
  {
   "cell_type": "code",
   "execution_count": null,
   "id": "3cc4511a-7d58-4c61-be88-edc66e4de222",
   "metadata": {},
   "outputs": [],
   "source": []
  }
 ],
 "metadata": {
  "kernelspec": {
   "display_name": "Python 3 (ipykernel)",
   "language": "python",
   "name": "python3"
  },
  "language_info": {
   "codemirror_mode": {
    "name": "ipython",
    "version": 3
   },
   "file_extension": ".py",
   "mimetype": "text/x-python",
   "name": "python",
   "nbconvert_exporter": "python",
   "pygments_lexer": "ipython3",
   "version": "3.9.6"
  }
 },
 "nbformat": 4,
 "nbformat_minor": 5
}
