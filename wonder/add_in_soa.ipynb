{
 "cells": [
  {
   "cell_type": "markdown",
   "id": "00d59510",
   "metadata": {},
   "source": [
    "### Credit to: https://github.com/alipphardt/cdc-wonder-api/blob/master/CDC%2BWONDER%2BAPI%2BExample.ipynb"
   ]
  },
  {
   "cell_type": "code",
   "execution_count": 3,
   "id": "6e573e89",
   "metadata": {},
   "outputs": [],
   "source": [
    "import requests\n",
    "\n",
    "# BeautifulSoup library facilitates parsing of XML response\n",
    "import bs4 as bs\n",
    "\n",
    "# This library faciliates 2-dimensional array operations and visualization\n",
    "import pandas as pd"
   ]
  },
  {
   "cell_type": "code",
   "execution_count": 70,
   "id": "a3d936db",
   "metadata": {},
   "outputs": [],
   "source": [
    "county_codes = pd.read_csv('county_fips_code_by_socio.csv')"
   ]
  },
  {
   "cell_type": "code",
   "execution_count": 89,
   "id": "32b83c48",
   "metadata": {},
   "outputs": [],
   "source": [
    "def createParameterList(parameterList):\n",
    "    \"\"\"Helper function to create a parameter list from a dictionary object\"\"\"\n",
    "    \n",
    "    parameterString = \"\"\n",
    "    \n",
    "    for key in parameterList:\n",
    "        parameterString += \"<parameter>\\n\"\n",
    "        parameterString += \"<name>\" + key + \"</name>\\n\"\n",
    "        \n",
    "        if isinstance(parameterList[key], list):\n",
    "            for value in parameterList[key]:\n",
    "                parameterString += \"<value>\" + value + \"</value>\\n\"\n",
    "                #parameterString += value + \"\\n\"\n",
    "        else:\n",
    "            parameterString += \"<value>\" + parameterList[key] + \"</value>\\n\"\n",
    "        \n",
    "        parameterString += \"</parameter>\\n\"\n",
    "        \n",
    "    return parameterString"
   ]
  },
  {
   "cell_type": "code",
   "execution_count": 10,
   "id": "90358790",
   "metadata": {},
   "outputs": [],
   "source": [
    "# measures to return, the default measures plus any optional measures\n",
    "\n",
    "# For this example, include deaths, population, and crude rate\n",
    "\n",
    "m_parameters = {\n",
    "    \"M_1\": \"D157.M1\",   # Deaths, must be included\n",
    "    \"M_2\": \"D157.M2\",   # Population, must be included\n",
    "    \"M_3\": \"D157.M3\",   # Crude rate, must be included\n",
    "    #\"M_31\": \"D157.M31\",        # Standard error (crude rate)\n",
    "    #\"M_32\": \"D157.M32\"         # 95% confidence interval (crude rate)\n",
    "    #\"M_41\": \"D157.M41\", # Standard error (age-adjusted rate)\n",
    "    #\"M_42\": \"D157.M42\"  # 95% confidence interval (age-adjusted rate)\n",
    "}"
   ]
  },
  {
   "cell_type": "code",
   "execution_count": 134,
   "id": "e4678fe9",
   "metadata": {},
   "outputs": [],
   "source": [
    "# by-variables\" or those parameters selected in the \"Group Results By\" and the \"And By\" drop-down lists \n",
    "# in the \"Request Form.\" These \"by-variables\" are the cross-tabulations, stratifications or indexes \n",
    "# to the query results. Expect the results data table to show a row for each category in the by-variables, \n",
    "# and a column for each measure. For example, if you wish to compare data by sex, then \"group results by\" gender, \n",
    "# to get a row for females and a row for males in the output.\n",
    "# M_ are measures to return, the default measures plus any optional measures.\n",
    "\n",
    "\n",
    "b_parameters = {\n",
    "    \"B_1\": \"D157.V10-level1\", # Census Region\n",
    "    \"B_2\": \"D157.V1-level1\", # Year\n",
    "    \"B_3\": \"D157.V7\", # Gender\n",
    "    \"B_4\": \"D157.V42\", # Single Race 6\n",
    "    \"B_5\": \"D157.V51\" # Five Year Age Group\n",
    "}"
   ]
  },
  {
   "cell_type": "code",
   "execution_count": 12,
   "id": "5384df48",
   "metadata": {},
   "outputs": [],
   "source": [
    "# values for non-standard age adjusted rates (see mortality online databases).\n",
    "\n",
    "# For this example, these parameters are ignored as standard age adjusted rates are used\n",
    "\n",
    "vm_parameters = {\n",
    "    \"VM_D157.M6_D157.V1_S\": \"*All*\",       \n",
    "    \"VM_D157.M6_D157.V7\": \"*All*\",   \n",
    "    \"VM_D157.M6_D157.V17\": \"*All*\", \n",
    "    \"VM_D157.M6_D157.V42\": \"*All*\",   \n",
    "    \"VM_D157.M6_D157.V20\": \"\"\n",
    "}"
   ]
  },
  {
   "cell_type": "code",
   "execution_count": 94,
   "id": "3b1951c6",
   "metadata": {},
   "outputs": [],
   "source": [
    "fips_to_drop = [51560]"
   ]
  },
  {
   "cell_type": "code",
   "execution_count": 95,
   "id": "84eda5a6",
   "metadata": {},
   "outputs": [],
   "source": [
    "#[str(i) for i in list(county_codes['1']) if i not in fips_to_drop]\n",
    "county_codes_list = []\n",
    "\n",
    "for i in list(county_codes['1']):\n",
    "    if i not in fips_to_drop:\n",
    "        code_to_add = str(i)\n",
    "        if len(code_to_add) == 4:\n",
    "            code_to_add = \"0\" + code_to_add\n",
    "        county_codes_list.append(code_to_add)"
   ]
  },
  {
   "cell_type": "code",
   "execution_count": 126,
   "id": "2e1c1241",
   "metadata": {},
   "outputs": [],
   "source": [
    "# variable values to limit in the \"where\" clause of the query, found in multiple select \n",
    "# list boxes and advanced finder text entry boxes in the \"Request Form.\"\n",
    "\n",
    "# For this example, we want to include ten-year age groups for ages 15-44.\n",
    "# For all other categories, include all values\n",
    "\n",
    "v_parameters = {\n",
    "    \"V_D157.V9\": county_codes_list, # Census Regions = County FIPs\n",
    "    \"V_D157.V10\": \"\",        # Census Regions\n",
    "    \"V_D157.V27\": \"\",\n",
    "    \"V_D157.V30\": \"\",\n",
    "    \"V_D157.V31\": \"\",\n",
    "    \"V_D157.V19\": \"*All*\",\n",
    "    \"V_D157.V11\": \"*All*\",\n",
    "    \"V_D157.V5\": \"*All*\",\n",
    "    \"V_D157.V51\": \"*All*\",\n",
    "    \"V_D157.V51\": \"*All*\",\n",
    "    \"V_D157.V6\": \"00\",\n",
    "    \"V_D157.V7\": \"*All*\",\n",
    "    \"V_D157.V17\": \"*All*\",\n",
    "    \"V_D157.V42\": \"00\",\n",
    "    \"V_D157.V43\": \"*All*\",\n",
    "    \"V_D157.V44\": \"*All*\",\n",
    "    \"V_D157.V1\": \"\",\n",
    "    \"V_D157.V24\": \"*All*\",\n",
    "    \"V_D157.V20\": \"*All*\",\n",
    "    \"V_D157.V21\": \"*All*\",\n",
    "    \"V_D157.V2\": \"\",\n",
    "    \"V_D157.V4\": \"*All*\",\n",
    "    \"V_D157.V12\": \"*All*\",\n",
    "    \"V_D157.V22\": \"\",\n",
    "    \"V_D157.V23\": \"*All*\",\n",
    "    \"V_D157.V25\": \"\",\n",
    "    \"V_D157.V13\": [\"T40.0 (Opium)\",\"T40.1 (Heroin)\",\"T40.2 (Other opioids)\",\"T40.3 (Methadone)\",\n",
    "                   \"T40.4 (Other synthetic narcotics)\",\"T40.6 (Other and unspecified narcotics)\"],\n",
    "    \"V_D157.V13_AND\": \"\",\n",
    "    \"V_D157.V15\": \"\",\n",
    "    \"V_D157.V15_AND\": \"\",\n",
    "    \"V_D157.V16\": \"\",\n",
    "    \"V_D157.V16_AND\": \"\",\n",
    "    \"V_D157.V26\": \"\",\n",
    "    \"V_D157.V26_AND\": \"\",\n",
    "}"
   ]
  },
  {
   "cell_type": "code",
   "execution_count": 15,
   "id": "468b0688",
   "metadata": {},
   "outputs": [],
   "source": [
    "# values highlighted in a \"Finder\" control for hierarchical lists, \n",
    "# such as the \"Regions/Divisions/States/Counties hierarchical\" list.\n",
    "\n",
    "# For this example, include all years, months, census regions, hhs regions, states. Only include ICD-10 K00-K92\n",
    "# for disease of the digestive system\n",
    "\n",
    "f_parameters = {\n",
    "    \"F_D157.V1\": [\"*All*\"], # year/month\n",
    "    \"F_D157.V10\": [\"*All*\"], # Census Regions - dont change\n",
    "    \"F_D157.V2\": [\"*All*\"], # ICD-10 Codes\n",
    "    \"F_D157.V27\": [\"*All*\"], # HHS Regions - dont change\n",
    "    \"F_D157.V9\": [\"*All*\"], # State County - dont change\n",
    "    \"F_D157.V30\": [\"*All*\"], \n",
    "    \"F_D157.V31\": [\"*All*\"], \n",
    "    \"F_D157.V25\": [\"*All*\"],\n",
    "    \"F_D157.V13\": [\"*All*\"],\n",
    "    \"F_D157.V26\": [\"*All*\"],\n",
    "}"
   ]
  },
  {
   "cell_type": "code",
   "execution_count": 136,
   "id": "c135db9a",
   "metadata": {},
   "outputs": [],
   "source": [
    "# other parameters, such as radio buttons, checkboxes, and lists that are not data categories\n",
    "\n",
    "# For this example, include age-adjusted rates, use ten-year age groups (D76.V5), use state location by default, \n",
    "# show rates per 100,000, use 2013 urbanization and use ICD-10 Codes (D76.V2) for cause of death category\n",
    "\n",
    "o_parameters = {\n",
    "    \"O_javascript\": \"on\",     # Set to on by default\n",
    "    \"O_aar\": \"aar_none\",       # age-adjusted rates\n",
    "    \"O_aar_pop\": \"0000\",      # population selection for age-adjusted rates\n",
    "    \"O_title\": \"\",    # title for data run\n",
    "    \"O_oc-sect1-request\": \"close\",\n",
    "    \"O_rate_per\": \"100000\",   # rates calculated per X persons\n",
    "    \"O_location\": \"D157.V9\",   # select location variable to use (e.g. state/county, census, hhs regions)\n",
    "    \"O_V9_fmode\": \"fadv\",     # Use regular finder and ignore v parameter value\n",
    "    \"O_V10_fmode\": \"fadv\",    # Use regular finder and ignore v parameter value\n",
    "    \"O_V27_fmode\": \"fadv\",    # Use regular finder and ignore v parameter value\n",
    "    \"O_V30_fmode\": \"fadv\",    # Use regular finder and ignore v parameter value\n",
    "    \"O_V31_fmode\": \"fadv\",    # Use regular finder and ignore v parameter value\n",
    "    \"O_urban\": \"D157.V19\",      # select urbanization category\n",
    "    \"O_age\": \"D157.V51\",        # select age-group (e.g. ten-year, five-year, single-year, infant groups)\n",
    "    \"O_race\": \"D157.V42\",        # \n",
    "    \"O_V1_fmode\": \"freg\",     # Use regular finder and ignore v parameter value\n",
    "    \"O_ucd\": \"D157.V2\",        # select underlying cause of death category\n",
    "    \"O_V2_fmode\": \"fadv\",     # Use regular finder and ignore v parameter value\n",
    "    \"O_V25_fmode\": \"freg\",     # Use regular finder and ignore v parameter value\n",
    "    \"O_mcd\": \"D157.V13\",        # select underlying cause of death category\n",
    "    \"O_V13_fmode\": \"fadv\",     # Use regular finder and ignore v parameter value\n",
    "    \"O_V15_fmode\": \"fadv\",    # Use regular finder and ignore v parameter value\n",
    "    \"O_V16_fmode\": \"fadv\",    # Use regular finder and ignore v parameter value    \n",
    "    \"O_V26_fmode\": \"fadv\",    # Use regular finder and ignore v parameter value \n",
    "    \"O_precision\": \"1\",       # decimal places\n",
    "    \"O_show_totals\": \"false\",  # Show totals for \n",
    "    \"O_timeout\": \"600\",\n",
    "}"
   ]
  },
  {
   "cell_type": "code",
   "execution_count": 137,
   "id": "c63dfa88",
   "metadata": {},
   "outputs": [],
   "source": [
    "# contents of the \"Currently selected\" information areas next to \"Finder\" controls in the \"Request Form.\"\n",
    "\n",
    "# For this example, include all dates, census regions, hhs regions, and states.\n",
    "# Only include ICD-10 code K00-K92 for disease of the digestive system\n",
    "\n",
    "i_parameters = {\n",
    "    \"I_D157.V9\": \"*All* (The United States)\", # State County - dont change\n",
    "    \"I_D157.V10\": \"*All* (The United States)\", # Census Regions - dont change\n",
    "    \"I_D157.V27\": \"*All* (The United States)\", # HHS Regions - dont change\n",
    "    \"I_D157.V30\": \"*All* (The United States)\",\n",
    "    \"I_D157.V31\": \"*All* (The United States)\",\n",
    "    \"I_D157.V1\": \"*All* (All Dates)\",  # year/month\n",
    "    \"I_D157.V2\": \"*All* (All Causes of Death)\", # ICD-10 Codes\n",
    "    \"I_D157.V25\": \"All Causes of Death\", # ICD-10 Codes\n",
    "}"
   ]
  },
  {
   "cell_type": "code",
   "execution_count": 138,
   "id": "dc52e8c1",
   "metadata": {},
   "outputs": [],
   "source": [
    "# Miscellaneous hidden inputs/parameters usually passed by web form. These do not change.\n",
    "misc_parameters = {\n",
    "    \"action-Send\": \"Send\",\n",
    "    \"finder-stage-D157.V26\": \"codeset\",\n",
    "    \"finder-stage-D157.V16\": \"codeset\",\n",
    "    \"finder-stage-D157.V15\": \"codeset\",\n",
    "    \"finder-stage-D157.V13\": \"codeset\",\n",
    "    \"finder-stage-D157.V25\": \"codeset\",\n",
    "    \"finder-stage-D157.V2\": \"codeset\",\n",
    "    \"finder-stage-D157.V1\": \"codeset\",\n",
    "    \"finder-stage-D157.V31\": \"codeset\",\n",
    "    \"finder-stage-D157.V30\": \"codeset\",\n",
    "    \"finder-stage-D157.V27\": \"codeset\",\n",
    "    \"finder-stage-D157.V10\": \"codeset\",\n",
    "    \"finder-stage-D157.V9\": \"codeset\",\n",
    "    \"stage\": \"request\",\n",
    "    \"dataset_code\": \"D157\",\n",
    "    \"dataset_label\": \"Multiple Cause of Death, 2018-2021, Single+Race\",\n",
    "    \"dataset_vintage\": \"2021\"\n",
    "}"
   ]
  },
  {
   "cell_type": "code",
   "execution_count": 139,
   "id": "dd2d1bb6",
   "metadata": {},
   "outputs": [],
   "source": [
    "xml_request = \"<request-parameters>\\n\"\n",
    "xml_request += createParameterList(b_parameters)\n",
    "xml_request += createParameterList(m_parameters)\n",
    "xml_request += createParameterList(f_parameters)\n",
    "xml_request += createParameterList(i_parameters)\n",
    "xml_request += createParameterList(o_parameters)\n",
    "xml_request += createParameterList(vm_parameters)\n",
    "xml_request += createParameterList(v_parameters)\n",
    "xml_request += createParameterList(misc_parameters)\n",
    "xml_request += \"</request-parameters>\""
   ]
  },
  {
   "cell_type": "code",
   "execution_count": 140,
   "id": "f89e7c56",
   "metadata": {},
   "outputs": [],
   "source": [
    "xml_request_file = \"Multiple Cause of Death, 2018-2021, Single Race_1699829475331-reqV2.xml\"\n",
    "f = open(xml_request_file, \"r\")\n",
    "#f.read()"
   ]
  },
  {
   "cell_type": "code",
   "execution_count": 141,
   "id": "39cabd9d",
   "metadata": {},
   "outputs": [],
   "source": [
    "#xml_request"
   ]
  },
  {
   "cell_type": "code",
   "execution_count": 142,
   "id": "18813131",
   "metadata": {},
   "outputs": [
    {
     "name": "stdout",
     "output_type": "stream",
     "text": [
      "<Response [500]>\n",
      "b'<?xml version=\"1.0\"?>\\r\\n<page>\\r\\n<platform>prod</platform>\\r\\n<title>Processing Error</title>\\r\\n<message>Age Adjusted Rates cannot be produced when the data is grouped by Age. #Age-Adjusted Rates Hints#</message>\\r\\n</page>'\n"
     ]
    }
   ],
   "source": [
    "url = \"https://wonder.cdc.gov/controller/datarequest/D157\" # D157 Multiple Cause of Death\n",
    "response = requests.post(url, data={\"request_xml\": xml_request, \"accept_datause_restrictions\": \"true\"})\n",
    "\n",
    "if response.status_code == 200:\n",
    "    data = response.text\n",
    "else:\n",
    "    print(response)\n",
    "    print(response.content)"
   ]
  },
  {
   "cell_type": "code",
   "execution_count": null,
   "id": "79931b0d",
   "metadata": {},
   "outputs": [],
   "source": []
  },
  {
   "cell_type": "code",
   "execution_count": 4,
   "id": "58cf37a2",
   "metadata": {},
   "outputs": [],
   "source": [
    "def xml2df(xml_data):\n",
    "    \"\"\" This function grabs the root of the XML document and iterates over\n",
    "        the 'r' (row) and 'c' (column) tags of the data-table\n",
    "        Rows with a 'v' attribute contain a numerical value\n",
    "        Rows with a 'l attribute contain a text label and may contain an\n",
    "        additional 'r' (rowspan) tag which identifies how many rows the value\n",
    "        should be added. If present, that label will be added to the following\n",
    "        rows of the data table.\n",
    "    \n",
    "        Function returns a two-dimensional array or data frame that may be \n",
    "        used by the pandas library.\"\"\"\n",
    "    \n",
    "    root = bs.BeautifulSoup(xml_data,\"lxml\")\n",
    "    all_records = []\n",
    "    row_number = 0\n",
    "    rows = root.find_all(\"r\")\n",
    "    \n",
    "    for row in rows:\n",
    "        if row_number >= len(all_records):\n",
    "            all_records.append([])\n",
    "              \n",
    "        for cell in row.find_all(\"c\"):\n",
    "            if 'v' in cell.attrs:\n",
    "                try:\n",
    "                    all_records[row_number].append(float(cell.attrs[\"v\"].replace(',','')))\n",
    "                except ValueError:\n",
    "                    all_records[row_number].append(cell.attrs[\"v\"])\n",
    "            else:\n",
    "                if 'r' not in cell.attrs:\n",
    "                    all_records[row_number].append(cell.attrs[\"l\"])\n",
    "                else:\n",
    "                \n",
    "                    for row_index in range(int(cell.attrs[\"r\"])):\n",
    "                        if (row_number + row_index) >= len(all_records):\n",
    "                            all_records.append([])\n",
    "                            all_records[row_number + row_index].append(cell.attrs[\"l\"])\n",
    "                        else:\n",
    "                            all_records[row_number + row_index].append(cell.attrs[\"l\"])\n",
    "                                           \n",
    "        row_number += 1\n",
    "    return all_records"
   ]
  },
  {
   "cell_type": "code",
   "execution_count": null,
   "id": "4b2fe3a8",
   "metadata": {},
   "outputs": [],
   "source": []
  }
 ],
 "metadata": {
  "kernelspec": {
   "display_name": "Python 3 (ipykernel)",
   "language": "python",
   "name": "python3"
  },
  "language_info": {
   "codemirror_mode": {
    "name": "ipython",
    "version": 3
   },
   "file_extension": ".py",
   "mimetype": "text/x-python",
   "name": "python",
   "nbconvert_exporter": "python",
   "pygments_lexer": "ipython3",
   "version": "3.7.7"
  }
 },
 "nbformat": 4,
 "nbformat_minor": 5
}
