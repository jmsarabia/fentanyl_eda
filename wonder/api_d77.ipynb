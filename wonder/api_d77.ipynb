{
 "cells": [
  {
   "cell_type": "code",
   "execution_count": 1,
   "id": "9c50fd7d-257b-4599-a0a8-309715a9ce23",
   "metadata": {},
   "outputs": [
    {
     "name": "stderr",
     "output_type": "stream",
     "text": [
      "/Users/robords/.venv/msdsCapstone_fentanyl_eda/lib/python3.9/site-packages/urllib3/__init__.py:34: NotOpenSSLWarning: urllib3 v2.0 only supports OpenSSL 1.1.1+, currently the 'ssl' module is compiled with 'LibreSSL 2.8.3'. See: https://github.com/urllib3/urllib3/issues/3020\n",
      "  warnings.warn(\n"
     ]
    }
   ],
   "source": [
    "import requests\n",
    "\n",
    "# BeautifulSoup library facilitates parsing of XML response\n",
    "import bs4 as bs\n",
    "\n",
    "# This library faciliates 2-dimensional array operations and visualization\n",
    "import pandas as pd"
   ]
  },
  {
   "cell_type": "code",
   "execution_count": 2,
   "id": "f0776188-ddfa-41ee-a9f1-af568eeacadc",
   "metadata": {},
   "outputs": [],
   "source": [
    "county_codes = pd.read_csv('county_fips_code_by_socio.csv')"
   ]
  },
  {
   "cell_type": "code",
   "execution_count": 3,
   "id": "58af67bd-078c-446b-80c7-4f5210b1e69c",
   "metadata": {},
   "outputs": [],
   "source": [
    "def createParameterList(parameterList):\n",
    "    \"\"\"Helper function to create a parameter list from a dictionary object\"\"\"\n",
    "    \n",
    "    parameterString = \"\"\n",
    "    \n",
    "    for key in parameterList:\n",
    "        parameterString += \"<parameter>\\n\"\n",
    "        parameterString += \"<name>\" + key + \"</name>\\n\"\n",
    "        \n",
    "        if isinstance(parameterList[key], list):\n",
    "            for value in parameterList[key]:\n",
    "                parameterString += \"<value>\" + value + \"</value>\\n\"\n",
    "                #parameterString += value + \"\\n\"\n",
    "        else:\n",
    "            parameterString += \"<value>\" + parameterList[key] + \"</value>\\n\"\n",
    "        \n",
    "        parameterString += \"</parameter>\\n\"\n",
    "        \n",
    "    return parameterString"
   ]
  },
  {
   "cell_type": "code",
   "execution_count": 8,
   "id": "e0ab6a43-9695-41df-ac11-0123f6746a96",
   "metadata": {},
   "outputs": [],
   "source": [
    "xml_request_file = \"Multiple Cause of Death, 1999-2020_edu0-req.xml\"\n",
    "f = open(xml_request_file, \"r\")"
   ]
  },
  {
   "cell_type": "code",
   "execution_count": 9,
   "id": "3734f55b-667e-4b89-bb1b-527ce2d3b271",
   "metadata": {},
   "outputs": [
    {
     "name": "stdout",
     "output_type": "stream",
     "text": [
      "<Response [500]>\n",
      "b'<?xml version=\"1.0\"?>\\r\\n<page>\\r\\n<platform>prod</platform>\\r\\n<title>Processing Error</title>\\r\\n<message>Location group by variables (B_1 through B_5) were found: D77.V10-level1</message>\\r\\n<message>Selections were made to location variable D77.V9.</message>\\r\\n<message>Only national data are available for this dataset when using the WONDER web service. Please check that your query does not group results by region, division, state, county or urbanization, (B_1 through B_5), nor limit these location variables to any specific values. For more information please contact CDC WONDER customer support at cwus@cdc.gov or (888) 496-8347.</message>\\r\\n</page>'\n"
     ]
    }
   ],
   "source": [
    "url = \"https://wonder.cdc.gov/controller/datarequest/D77\" # D77 Multiple Cause of Death 1999-2000\n",
    "response = requests.post(url, data={\"request_xml\": f.read(), \"accept_datause_restrictions\": \"true\"})\n",
    "\n",
    "if response.status_code == 200:\n",
    "    data = response.text\n",
    "else:\n",
    "    print(response)\n",
    "    print(response.content)"
   ]
  },
  {
   "cell_type": "code",
   "execution_count": null,
   "id": "03941ddb-326b-454a-8674-b75738dd68d8",
   "metadata": {},
   "outputs": [],
   "source": []
  }
 ],
 "metadata": {
  "kernelspec": {
   "display_name": "Python 3 (ipykernel)",
   "language": "python",
   "name": "python3"
  },
  "language_info": {
   "codemirror_mode": {
    "name": "ipython",
    "version": 3
   },
   "file_extension": ".py",
   "mimetype": "text/x-python",
   "name": "python",
   "nbconvert_exporter": "python",
   "pygments_lexer": "ipython3",
   "version": "3.9.6"
  }
 },
 "nbformat": 4,
 "nbformat_minor": 5
}
